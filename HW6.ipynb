{
  "cells": [
    {
      "cell_type": "markdown",
      "metadata": {
        "id": "LEx3M_MjizK3"
      },
      "source": [
        "# 👀 WARNING 🐈\n",
        "\n",
        "\n",
        "### ⚠️ Important Setup Instructions\n",
        "\n",
        "Before you begin this homework, please note that all tasks were tested in Google Colab. It's crucial to follow the setup steps below to ensure that your environment is configured correctly. You will require a GPU for some of the tasks, so please make sure to adjust your Colab settings accordingly.\n",
        "\n",
        "#### Setup Steps:\n",
        "\n",
        "1. Use a GPU runtime to accelerate the training process of the CNN and proper compile:\n",
        "   - In Google Colab, click on ‘Runtime’.\n",
        "   - Select ‘Change runtime type’.\n",
        "   - Choose ‘GPU’ from the hardware accelerator dropdown menu.\n",
        "2. Install necessary libraries and dependencies as outlined in the provided code snippets.\n",
        "3. Execute all code cells in the order they are presented to avoid dependency issues.\n",
        "\n",
        "#### Installation Commands:"
      ]
    },
    {
      "cell_type": "code",
      "execution_count": 46,
      "metadata": {
        "colab": {
          "base_uri": "https://localhost:8080/"
        },
        "id": "os09aqKPliMb",
        "outputId": "a3df5531-892e-4cd3-9967-b7055c36c46c"
      },
      "outputs": [
        {
          "output_type": "stream",
          "name": "stdout",
          "text": [
            "/sbin/ldconfig.real: /usr/local/lib/libtbbbind_2_0.so.3 is not a symbolic link\n",
            "\n",
            "/sbin/ldconfig.real: /usr/local/lib/libtbbmalloc_proxy.so.2 is not a symbolic link\n",
            "\n",
            "/sbin/ldconfig.real: /usr/local/lib/libtbbmalloc.so.2 is not a symbolic link\n",
            "\n",
            "/sbin/ldconfig.real: /usr/local/lib/libtbb.so.12 is not a symbolic link\n",
            "\n",
            "/sbin/ldconfig.real: /usr/local/lib/libtbbbind_2_5.so.3 is not a symbolic link\n",
            "\n",
            "/sbin/ldconfig.real: /usr/local/lib/libtbbbind.so.3 is not a symbolic link\n",
            "\n"
          ]
        }
      ],
      "source": [
        "!export LD_LIBRARY_PATH=\"/usr/lib64-nvidia\"\n",
        "!export LIBRARY_PATH=\"/usr/local/cuda/lib64/stubs\"\n",
        "!ldconfig \"/usr/lib64-nvidia\""
      ]
    },
    {
      "cell_type": "code",
      "execution_count": 47,
      "metadata": {
        "colab": {
          "base_uri": "https://localhost:8080/"
        },
        "id": "UhIA-h5n5n04",
        "outputId": "dcfefb37-e248-43ab-f113-c9b002187906"
      },
      "outputs": [
        {
          "output_type": "stream",
          "name": "stdout",
          "text": [
            "Requirement already satisfied: tensorrt in /usr/local/lib/python3.10/dist-packages (8.6.1.post1)\n",
            "Requirement already satisfied: torch_tensorrt in /usr/local/lib/python3.10/dist-packages (1.4.0)\n",
            "Requirement already satisfied: onnx in /usr/local/lib/python3.10/dist-packages (1.15.0)\n",
            "Requirement already satisfied: onnxruntime in /usr/local/lib/python3.10/dist-packages (1.16.3)\n",
            "Requirement already satisfied: maturin in /usr/local/lib/python3.10/dist-packages (1.4.0)\n",
            "Requirement already satisfied: torch<2.1,>=2.0.1 in /usr/local/lib/python3.10/dist-packages (from torch_tensorrt) (2.0.1)\n",
            "Requirement already satisfied: numpy in /usr/local/lib/python3.10/dist-packages (from onnx) (1.23.5)\n",
            "Requirement already satisfied: protobuf>=3.20.2 in /usr/local/lib/python3.10/dist-packages (from onnx) (3.20.3)\n",
            "Requirement already satisfied: coloredlogs in /usr/local/lib/python3.10/dist-packages (from onnxruntime) (15.0.1)\n",
            "Requirement already satisfied: flatbuffers in /usr/local/lib/python3.10/dist-packages (from onnxruntime) (23.5.26)\n",
            "Requirement already satisfied: packaging in /usr/local/lib/python3.10/dist-packages (from onnxruntime) (23.2)\n",
            "Requirement already satisfied: sympy in /usr/local/lib/python3.10/dist-packages (from onnxruntime) (1.12)\n",
            "Requirement already satisfied: tomli>=1.1.0 in /usr/local/lib/python3.10/dist-packages (from maturin) (2.0.1)\n",
            "Requirement already satisfied: filelock in /usr/local/lib/python3.10/dist-packages (from torch<2.1,>=2.0.1->torch_tensorrt) (3.13.1)\n",
            "Requirement already satisfied: typing-extensions in /usr/local/lib/python3.10/dist-packages (from torch<2.1,>=2.0.1->torch_tensorrt) (4.5.0)\n",
            "Requirement already satisfied: networkx in /usr/local/lib/python3.10/dist-packages (from torch<2.1,>=2.0.1->torch_tensorrt) (3.2.1)\n",
            "Requirement already satisfied: jinja2 in /usr/local/lib/python3.10/dist-packages (from torch<2.1,>=2.0.1->torch_tensorrt) (3.1.2)\n",
            "Requirement already satisfied: nvidia-cuda-nvrtc-cu11==11.7.99 in /usr/local/lib/python3.10/dist-packages (from torch<2.1,>=2.0.1->torch_tensorrt) (11.7.99)\n",
            "Requirement already satisfied: nvidia-cuda-runtime-cu11==11.7.99 in /usr/local/lib/python3.10/dist-packages (from torch<2.1,>=2.0.1->torch_tensorrt) (11.7.99)\n",
            "Requirement already satisfied: nvidia-cuda-cupti-cu11==11.7.101 in /usr/local/lib/python3.10/dist-packages (from torch<2.1,>=2.0.1->torch_tensorrt) (11.7.101)\n",
            "Requirement already satisfied: nvidia-cudnn-cu11==8.5.0.96 in /usr/local/lib/python3.10/dist-packages (from torch<2.1,>=2.0.1->torch_tensorrt) (8.5.0.96)\n",
            "Requirement already satisfied: nvidia-cublas-cu11==11.10.3.66 in /usr/local/lib/python3.10/dist-packages (from torch<2.1,>=2.0.1->torch_tensorrt) (11.10.3.66)\n",
            "Requirement already satisfied: nvidia-cufft-cu11==10.9.0.58 in /usr/local/lib/python3.10/dist-packages (from torch<2.1,>=2.0.1->torch_tensorrt) (10.9.0.58)\n",
            "Requirement already satisfied: nvidia-curand-cu11==10.2.10.91 in /usr/local/lib/python3.10/dist-packages (from torch<2.1,>=2.0.1->torch_tensorrt) (10.2.10.91)\n",
            "Requirement already satisfied: nvidia-cusolver-cu11==11.4.0.1 in /usr/local/lib/python3.10/dist-packages (from torch<2.1,>=2.0.1->torch_tensorrt) (11.4.0.1)\n",
            "Requirement already satisfied: nvidia-cusparse-cu11==11.7.4.91 in /usr/local/lib/python3.10/dist-packages (from torch<2.1,>=2.0.1->torch_tensorrt) (11.7.4.91)\n",
            "Requirement already satisfied: nvidia-nccl-cu11==2.14.3 in /usr/local/lib/python3.10/dist-packages (from torch<2.1,>=2.0.1->torch_tensorrt) (2.14.3)\n",
            "Requirement already satisfied: nvidia-nvtx-cu11==11.7.91 in /usr/local/lib/python3.10/dist-packages (from torch<2.1,>=2.0.1->torch_tensorrt) (11.7.91)\n",
            "Requirement already satisfied: triton==2.0.0 in /usr/local/lib/python3.10/dist-packages (from torch<2.1,>=2.0.1->torch_tensorrt) (2.0.0)\n",
            "Requirement already satisfied: setuptools in /usr/local/lib/python3.10/dist-packages (from nvidia-cublas-cu11==11.10.3.66->torch<2.1,>=2.0.1->torch_tensorrt) (67.7.2)\n",
            "Requirement already satisfied: wheel in /usr/local/lib/python3.10/dist-packages (from nvidia-cublas-cu11==11.10.3.66->torch<2.1,>=2.0.1->torch_tensorrt) (0.42.0)\n",
            "Requirement already satisfied: cmake in /usr/local/lib/python3.10/dist-packages (from triton==2.0.0->torch<2.1,>=2.0.1->torch_tensorrt) (3.27.9)\n",
            "Requirement already satisfied: lit in /usr/local/lib/python3.10/dist-packages (from triton==2.0.0->torch<2.1,>=2.0.1->torch_tensorrt) (17.0.6)\n",
            "Requirement already satisfied: humanfriendly>=9.1 in /usr/local/lib/python3.10/dist-packages (from coloredlogs->onnxruntime) (10.0)\n",
            "Requirement already satisfied: mpmath>=0.19 in /usr/local/lib/python3.10/dist-packages (from sympy->onnxruntime) (1.3.0)\n",
            "Requirement already satisfied: MarkupSafe>=2.0 in /usr/local/lib/python3.10/dist-packages (from jinja2->torch<2.1,>=2.0.1->torch_tensorrt) (2.1.3)\n"
          ]
        }
      ],
      "source": [
        "!pip install tensorrt torch_tensorrt onnx onnxruntime maturin"
      ]
    },
    {
      "cell_type": "code",
      "execution_count": 45,
      "metadata": {
        "id": "jpHw8JdPENo4",
        "colab": {
          "base_uri": "https://localhost:8080/"
        },
        "outputId": "3a3ea494-0784-4268-bc66-659bf8ad8e47"
      },
      "outputs": [
        {
          "output_type": "stream",
          "name": "stdout",
          "text": [
            "\u001b[1minfo:\u001b[0m downloading installer\n",
            "\u001b[1minfo: \u001b[mprofile set to 'default'\n",
            "\u001b[1minfo: \u001b[mdefault host triple is x86_64-unknown-linux-gnu\n",
            "\u001b[1minfo: \u001b[msyncing channel updates for 'stable-x86_64-unknown-linux-gnu'\n",
            "\u001b[1minfo: \u001b[mlatest update on 2023-12-07, rust version 1.74.1 (a28077b28 2023-12-04)\n",
            "\u001b[1minfo: \u001b[mdownloading component 'cargo'\n",
            "\u001b[1minfo: \u001b[mdownloading component 'clippy'\n",
            "\u001b[1minfo: \u001b[mdownloading component 'rust-docs'\n",
            "\u001b[1minfo: \u001b[mdownloading component 'rust-std'\n",
            "\u001b[1minfo: \u001b[mdownloading component 'rustc'\n",
            "\u001b[1minfo: \u001b[mdownloading component 'rustfmt'\n",
            "\u001b[1minfo: \u001b[minstalling component 'cargo'\n",
            "\u001b[1minfo: \u001b[minstalling component 'clippy'\n",
            "\u001b[1minfo: \u001b[minstalling component 'rust-docs'\n",
            " 14.4 MiB /  14.4 MiB (100 %)   1.3 MiB/s in  8s ETA:  0s\n",
            "\u001b[1minfo: \u001b[minstalling component 'rust-std'\n",
            " 25.8 MiB /  25.8 MiB (100 %)   9.9 MiB/s in  3s ETA:  0s\n",
            "\u001b[1minfo: \u001b[minstalling component 'rustc'\n",
            " 58.2 MiB /  58.2 MiB (100 %)  11.0 MiB/s in  5s ETA:  0s\n",
            "\u001b[1minfo: \u001b[minstalling component 'rustfmt'\n",
            "\u001b[1minfo: \u001b[mdefault toolchain set to 'stable-x86_64-unknown-linux-gnu'\n",
            "\n",
            "  \u001b[1m\u001b[32mstable-x86_64-unknown-linux-gnu installed\u001b[m - rustc 1.74.1 (a28077b28 2023-12-04)\n",
            "\n",
            "\u001b[1m\n",
            "Rust is installed now. Great!\n",
            "\u001b[m\n",
            "To get started you may need to restart your current shell.\n",
            "This would reload your \u001b[1mPATH\u001b[m environment variable to include\n",
            "Cargo's bin directory ($HOME/.cargo/bin).\n",
            "\n",
            "To configure your current shell, run:\n",
            "source \"$HOME/.cargo/env\"\n"
          ]
        }
      ],
      "source": [
        "!curl --proto '=https' --tlsv1.2 -sSf https://sh.rustup.rs | sh -s -- -y"
      ]
    },
    {
      "cell_type": "code",
      "execution_count": 48,
      "metadata": {
        "id": "_4cwr9FYFBH-"
      },
      "outputs": [],
      "source": [
        "import os\n",
        "os.environ['PATH'] += \":/root/.cargo/bin\""
      ]
    },
    {
      "cell_type": "code",
      "execution_count": 49,
      "metadata": {
        "colab": {
          "base_uri": "https://localhost:8080/"
        },
        "id": "XBJjzFHIFQkj",
        "outputId": "9c5eef19-7013-40cb-a9aa-2e5b709c2468"
      },
      "outputs": [
        {
          "output_type": "stream",
          "name": "stdout",
          "text": [
            "cargo 1.74.1 (ecb9851af 2023-10-18)\n"
          ]
        }
      ],
      "source": [
        "!cargo --version"
      ]
    },
    {
      "cell_type": "markdown",
      "metadata": {
        "id": "r7CbAqtMlZtL"
      },
      "source": [
        "# HSE 2023: Mathematical Methods for Data Analysis\n",
        "\n",
        "# Homework 6 (Bonus)\n",
        "\n",
        "**Author: Alexander Kalashnikov**\n",
        "\n",
        "## Introduction\n",
        "Welcome to an exciting journey through the realms of machine learning and system integration, where we will tackle a fascinating challenge: building a Convolutional Neural Network (CNN) designed to recognize time from images of digital clocks. This task not only covers the design and training of neural networks but also extends into the world of production-level deployment. We'll dive into converting a trained model into various runtimes, and you'll get hands-on experience with implementing model inference in Rust—a language renowned for its performance and safety.\n",
        "\n",
        "<img src=\"./images/1.png\">\n",
        "\n",
        "---\n",
        "\n",
        "<div align=\"center\"><b> Your mission is to train a model that can look at such images and tell us the time displayed. </b></div>\n",
        "\n",
        "---"
      ]
    },
    {
      "cell_type": "markdown",
      "metadata": {
        "id": "8kaN5zcloA3r"
      },
      "source": [
        "# Load data\n",
        "\n",
        "Let's begin by downloading the dataset required for this homework. The dataset contains the images that we will use to train our model.\n",
        "\n",
        "**Follow the commands below to download and extract the dataset into your working environment:**"
      ]
    },
    {
      "cell_type": "code",
      "execution_count": 7,
      "metadata": {
        "colab": {
          "base_uri": "https://localhost:8080/"
        },
        "id": "gmBGcsb0oCKP",
        "outputId": "4ed2a511-1b84-44ca-eb93-7efbf89861fc"
      },
      "outputs": [
        {
          "output_type": "stream",
          "name": "stdout",
          "text": [
            "/usr/local/lib/python3.10/dist-packages/gdown/cli.py:121: FutureWarning: Option `--id` was deprecated in version 4.3.1 and will be removed in 5.0. You don't need to pass it anymore to use a file ID.\n",
            "  warnings.warn(\n",
            "Downloading...\n",
            "From: https://drive.google.com/uc?id=1ZLKpoYcMVBVgZBq2jvB23zR4yHClVfUd\n",
            "To: /content/timer_dataset.zip\n",
            "100% 18.9M/18.9M [00:00<00:00, 37.0MB/s]\n",
            "Downloaded data into ./timer_dataset\n"
          ]
        }
      ],
      "source": [
        "!gdown --id 1ZLKpoYcMVBVgZBq2jvB23zR4yHClVfUd && unzip -q -o timer_dataset.zip\n",
        "!echo \"Downloaded data into ./timer_dataset\""
      ]
    },
    {
      "cell_type": "markdown",
      "metadata": {
        "id": "lB8gsGPZdu1a"
      },
      "source": [
        "### Below are two utility functions for the start:"
      ]
    },
    {
      "cell_type": "code",
      "execution_count": 8,
      "metadata": {
        "id": "aKCPA-3ElS_k"
      },
      "outputs": [],
      "source": [
        "import cv2\n",
        "import numpy as np\n",
        "import matplotlib.pyplot as plt"
      ]
    },
    {
      "cell_type": "code",
      "execution_count": 10,
      "metadata": {
        "id": "h6qhQPcElXUC"
      },
      "outputs": [],
      "source": [
        "def read_image(image_path: str) -> np.ndarray:\n",
        "    \"\"\"\n",
        "    Reads an image from a specified file path and convert it to RGB format.\n",
        "\n",
        "    Args:\n",
        "        image_path (str): The path to the image file.\n",
        "\n",
        "    Returns:\n",
        "        np.ndarray: The image in RGB format.\n",
        "    \"\"\"\n",
        "    image = cv2.imread(image_path)\n",
        "    image = cv2.cvtColor(image, cv2.COLOR_BGR2RGB)\n",
        "    return image\n",
        "\n",
        "\n",
        "def visualize(**images) -> None:\n",
        "    \"\"\"\n",
        "    Plots images in one row.\n",
        "\n",
        "    Args:\n",
        "        **images: Variable length keyword arguments. Each key-value pair should be\n",
        "                  the name of the image and the image data respectively.\n",
        "\n",
        "    \"\"\"\n",
        "    n = len(images)\n",
        "\n",
        "    for i, (name, image) in enumerate(images.items()):\n",
        "        plt.subplot(1, n, i + 1)\n",
        "        plt.xticks([])\n",
        "        plt.yticks([])\n",
        "        plt.title(' '.join(name.split('_')).title())\n",
        "        plt.imshow(image)\n",
        "    plt.show()\n"
      ]
    },
    {
      "cell_type": "markdown",
      "metadata": {
        "id": "1fpTc3CwG-Jt"
      },
      "source": [
        "## [Task 1] Exploratory Data Analysis (EDA) - 0.5 Point\n",
        "\n",
        "### Objective:\n",
        "Perform an exploratory data analysis (EDA) on the provided dataset to understand its structure, contents, and the data you'll be working with.\n",
        "\n",
        "### Instructions:\n",
        "\n",
        "1. **Verify Dataset Integrity:**\n",
        "   - Check dataset structure.\n",
        "   - Check the number of files in the dataset.\n",
        "\n",
        "2. **Understand File Distribution:**\n",
        "   - List the first few image filenames to get a sense of the naming convention.\n",
        "   - Review the targets file to understand the association between images and their labels.\n",
        "\n",
        "3. **Read Targets:**\n",
        "   - Use pandas to read the targets file into a DataFrame.\n",
        "   - Ensure the DataFrame is correctly structured with columns for both the target and the filename.\n",
        "\n",
        "4. **Data Visualization:**\n",
        "   - Use the `read_image` function to read a sample image from the dataset.\n",
        "   - Visualize the sample image using the `visualize` function.\n",
        "   - Map this sample image to the corresponding target in targets DataFrame printing both.\n",
        "\n",
        "5. **Initial Data Insights:**\n",
        "   - Report the size of the dataset (number of images).\n",
        "   - Provide a brief summary of the target variable distribution."
      ]
    },
    {
      "cell_type": "code",
      "source": [
        "import pandas as pd"
      ],
      "metadata": {
        "id": "5EMFv-gChPUp"
      },
      "execution_count": 11,
      "outputs": []
    },
    {
      "cell_type": "code",
      "execution_count": 12,
      "metadata": {
        "id": "ysZmYzuVdu1b",
        "colab": {
          "base_uri": "https://localhost:8080/",
          "height": 667
        },
        "outputId": "46407eec-c917-4cce-973c-b56d1e80cf5f"
      },
      "outputs": [
        {
          "output_type": "stream",
          "name": "stdout",
          "text": [
            "Количество изображений в наборе данных: 1296\n",
            "Первые несколько имен файлов изображений: ['ff6802020121ffff.png', 'ff1808caa088fcff.png', 'ff1a008262007eff.png', 'ff0800a81808cfff.png', 'ff1808082808ffff.png']\n",
            "Структура DataFrame целей:\n",
            "   target              filename\n",
            "0  21:57  ff1006a258017fff.png\n",
            "1  19:52  ff1006828880feff.png\n",
            "2  12:16  ff1800a81888cfff.png\n",
            "3  23:49  ff18088870087fff.png\n",
            "4  11:16  ff1800a81828ffff.png\n"
          ]
        },
        {
          "output_type": "display_data",
          "data": {
            "text/plain": [
              "<Figure size 1600x500 with 1 Axes>"
            ],
            "image/png": "[encoded data removed]"
          },
          "metadata": {}
        },
        {
          "output_type": "stream",
          "name": "stdout",
          "text": [
            "Имя файла образца изображения: ff1006a258017fff.png\n",
            "Соответствующая метка времени: 21:57\n"
          ]
        }
      ],
      "source": [
        "# ╰( ͡° ͜ʖ ͡° )つ──☆*:・ﾟ YOUR CODE HERE\n",
        "# Функция для чтения изображения\n",
        "def read_image(image_path: str) -> np.ndarray:\n",
        "    image = cv2.imread(image_path)\n",
        "    image = cv2.cvtColor(image, cv2.COLOR_BGR2RGB)\n",
        "    return image\n",
        "\n",
        "# Функция для визуализации изображения\n",
        "def visualize(**images) -> None:\n",
        "    n = len(images)\n",
        "    plt.figure(figsize=(16, 5))\n",
        "    for i, (name, image) in enumerate(images.items()):\n",
        "        plt.subplot(1, n, i + 1)\n",
        "        plt.xticks([])\n",
        "        plt.yticks([])\n",
        "        plt.title(' '.join(name.split('_')).title())\n",
        "        plt.imshow(image)\n",
        "    plt.show()\n",
        "\n",
        "# Проверяем структуру датасета и количество файлов\n",
        "dataset_path = './timer_dataset/images'  # Убедитесь, что путь к вашему набору данных верный\n",
        "image_files = [img for img in os.listdir(dataset_path) if img.endswith('.png')]\n",
        "print(f\"Количество изображений в наборе данных: {len(image_files)}\")\n",
        "\n",
        "# Список первых нескольких имен файлов изображений\n",
        "print(\"Первые несколько имен файлов изображений:\", image_files[:5])\n",
        "\n",
        "# Чтение файла целей (targets)\n",
        "targets_df = pd.read_csv('./timer_dataset/targets.txt', delimiter=' -> ', engine='python', names=['target', 'filename'])\n",
        "print(\"Структура DataFrame целей:\\n\", targets_df.head())\n",
        "\n",
        "# Визуализация образца изображения\n",
        "sample_image_path = os.path.join(dataset_path, targets_df['filename'].iloc[0])\n",
        "sample_image = read_image(sample_image_path)\n",
        "visualize(sample_image=sample_image)\n",
        "\n",
        "# Сопоставляем образец изображения с соответствующей целью\n",
        "sample_target = targets_df[targets_df['filename'] == targets_df['filename'].iloc[0]]['target'].iloc[0]\n",
        "print(\"Имя файла образца изображения:\", targets_df['filename'].iloc[0])\n",
        "print(\"Соответствующая метка времени:\", sample_target)\n"
      ]
    },
    {
      "cell_type": "markdown",
      "metadata": {
        "id": "nieGs50xnglc"
      },
      "source": [
        "## [Task 2] Implement `create_train_val_splits` Function - 0.25 Points\n",
        "\n",
        "### Objective:\n",
        "Write a Python function `create_train_val_splits` to divide a dataset into training and validation sets and save the result as a JSON file.\n",
        "\n",
        "### Requirements:\n",
        "\n",
        "- Read image names from a markup file (`markup_path`).\n",
        "- Split data into training and validation sets using the `val_ratio`.\n",
        "- Save the splits in JSON format to the specified `output_path`."
      ]
    },
    {
      "cell_type": "code",
      "execution_count": 13,
      "metadata": {
        "id": "oP1OSEU3mw2u"
      },
      "outputs": [],
      "source": [
        "import json\n",
        "\n",
        "from sklearn.model_selection import train_test_split\n",
        "\n",
        "\n",
        "def create_train_val_splits(\n",
        "    markup_path: str,\n",
        "    output_path: str,\n",
        "    val_ratio: float = 0.2,\n",
        ") -> None:\n",
        "    \"\"\"\n",
        "    Creates training and validation splits from a markup file and save them as a JSON file.\n",
        "\n",
        "    This function reads a markup file containing image names, splits the images into\n",
        "    training and validation sets, and then saves these sets to a specified JSON file.\n",
        "\n",
        "    Args:\n",
        "        markup_path (str): Path to the markup file with image names.\n",
        "        output_path (str): Path where the JSON file with train-validation splits will be saved.\n",
        "        val_ratio (float, optional): The proportion of the dataset to include\n",
        "        in the validation split. Defaults to 0.2.\n",
        "    \"\"\"\n",
        "    # ╰( ͡° ͜ʖ ͡° )つ──☆*:・ﾟ YOUR CODE HERE\n",
        "    with open(markup_path, 'r') as file:\n",
        "        data = file.readlines()\n",
        "\n",
        "    image_names = [line.split(' -> ')[1].strip() for line in data]\n",
        "\n",
        "    train_names, val_names = train_test_split(image_names, test_size=val_ratio)\n",
        "\n",
        "\n",
        "    splits = {\n",
        "        'train': train_names,\n",
        "        'val': val_names\n",
        "    }\n",
        "    with open(output_path, 'w') as file:\n",
        "        json.dump(splits, file, indent=4)\n",
        "\n",
        "\n",
        "markup_path = 'timer_dataset/targets.txt'\n",
        "output_path = 'timer_dataset/splits.json'\n",
        "create_train_val_splits(markup_path, output_path)"
      ]
    },
    {
      "cell_type": "markdown",
      "metadata": {
        "id": "Vhi7Kf-dnyho"
      },
      "source": [
        "## [Task 3] Image Preprocessing and Augmentation - 1 Point\n",
        "\n",
        "<img src=\"./images/2.png\" width=\"60%\">\n",
        "\n",
        "### Objective:\n",
        "Implement functions to apply image augmentations and preprocessing for the images normalization and unification."
      ]
    },
    {
      "cell_type": "markdown",
      "metadata": {
        "id": "Jf-CTUwjdu1b"
      },
      "source": [
        "### Part 1: Define Augmentation Functions\n",
        "\n",
        "\n",
        "- `get_training_augmentations(image_size: int) -> albu.Compose`: This function should construct a series of augmentation transforms for training images. You have the freedom to add any augmentations you find necessary to improve the training process. **However, ensure that every transformed image is resized to a square format with dimensions `image_size x image_size`.**\n",
        "\n",
        "\n",
        "- `get_validation_augmentations(image_size: int) -> albu.Compose`: This function will define a series of transformations for validation images. Validation transforms are typically less extensive than training transforms. They should normalize the image but should not include random transformations that would create variations in your validation data. Like the training augmentations, **all images should be resized to be square with the same width and height as specified by `image_size`.**\n",
        "\n",
        "Note that while you may introduce a variety of transformations for the training dataset to improve model robustness, all images, after augmentation, should maintain a square shape. This consistency is crucial for training stability and performance evaluation."
      ]
    },
    {
      "cell_type": "code",
      "execution_count": 14,
      "metadata": {
        "id": "S4p1_0KgnvuA"
      },
      "outputs": [],
      "source": [
        "from typing import Callable, Literal\n",
        "\n",
        "import albumentations as albu\n",
        "\n",
        "\n",
        "def get_training_augmentations(image_size: int) -> albu.Compose:\n",
        "    \"\"\"\n",
        "    Constructs augmentation transform for training images.\n",
        "\n",
        "    Returns:\n",
        "        albu.Compose: augmentation transform\n",
        "    \"\"\"\n",
        "    # ╰( ͡° ͜ʖ ͡° )つ──☆*:・ﾟ YOUR CODE HERE\n",
        "    return albu.Compose([\n",
        "        albu.HorizontalFlip(p=0.5),  # случайное горизонтальное отражение\n",
        "        albu.VerticalFlip(p=0.5),    # случайное вертикальное отражение\n",
        "        albu.Rotate(limit=45, p=0.5),  # случайное вращение на угол до 45 градусов\n",
        "        albu.RandomBrightnessContrast(brightness_limit=0.2, contrast_limit=0.2, p=0.5),  # случайные изменения яркости и контрастности\n",
        "        albu.Resize(image_size, image_size),  # изменение размера изображения\n",
        "    ])\n",
        "\n",
        "def get_validation_augmentations(image_size: int) -> albu.Compose:\n",
        "    \"\"\"\n",
        "    Constructs augmentation transform for validation images.\n",
        "\n",
        "    Returns:\n",
        "        albu.Compose: augmentation transform\n",
        "    \"\"\"\n",
        "    # ╰( ͡° ͜ʖ ͡° )つ──☆*:・ﾟ YOUR CODE HERE\n",
        "    return albu.Compose([\n",
        "        albu.Resize(image_size, image_size),  # изменение размера изображения\n",
        "    ])"
      ]
    },
    {
      "cell_type": "markdown",
      "metadata": {
        "id": "jSD7B_OYdu1b"
      },
      "source": [
        "### Part 2: Implement `to_tensor` Function\n",
        "Implement the `to_tensor` function to reshape the input image to the required format for PyTorch models (**CxHxW** - channel first), which involves changing the order of dimensions and ensuring the data type is float32."
      ]
    },
    {
      "cell_type": "code",
      "execution_count": 15,
      "metadata": {
        "id": "eGsYwaUaKWUR"
      },
      "outputs": [],
      "source": [
        "def to_tensor(x: np.ndarray, **kwargs) -> np.ndarray:\n",
        "    \"\"\"\n",
        "    Transposes an image array to the required shape for pytorch.\n",
        "\n",
        "    Args:\n",
        "        x (np.ndarray): image array.\n",
        "\n",
        "    Returns:\n",
        "        np.ndarray: transposed image array\n",
        "    \"\"\"\n",
        "    # ╰( ͡° ͜ʖ ͡° )つ──☆*:・ﾟ YOUR CODE HERE\n",
        "    x = x.transpose(2, 0, 1)\n",
        "    if x.max() > 1:\n",
        "        x = x / 255.0\n",
        "    return x.astype('float32')\n"
      ]
    },
    {
      "cell_type": "markdown",
      "metadata": {
        "id": "a6sny98wdu1b"
      },
      "source": [
        "### Part 3: Implement `normalize_img` Function\n",
        "Write the `normalize_img` function to apply mean and standard deviation normalization to the image data, which is a common preprocessing step to standardize input data for model training.\n",
        "\n",
        "**Use the mean and the standard deviation values for the ImageNet dataset. Do not forget about the image normalization by maximum pixel value.**"
      ]
    },
    {
      "cell_type": "code",
      "execution_count": 16,
      "metadata": {
        "id": "ZIA5IC22KYyn"
      },
      "outputs": [],
      "source": [
        "def normalize_img(img: np.ndarray, **kwargs) -> np.ndarray:\n",
        "    \"\"\"\n",
        "    Normalizes image data.\n",
        "\n",
        "    Args:\n",
        "        img (np.ndarray): image array.\n",
        "\n",
        "    Returns:\n",
        "        np.ndarray: normalized image array\n",
        "    \"\"\"\n",
        "    # ╰( ͡° ͜ʖ ͡° )つ──☆*:・ﾟ YOUR CODE HERE\n",
        "    mean = np.array([0.485, 0.456, 0.406]).reshape((3, 1, 1))\n",
        "    std = np.array([0.229, 0.224, 0.225]).reshape((3, 1, 1))\n",
        "\n",
        "    img = img / 255.0  # Ensure the pixel values are [0, 1]\n",
        "    img = (img - mean) / std\n",
        "\n",
        "    return img.astype('float32')"
      ]
    },
    {
      "cell_type": "code",
      "source": [
        "def normalize_img(img: np.ndarray, **kwargs) -> np.ndarray:\n",
        "    \"\"\"\n",
        "    Normalizes image data using the ImageNet mean and standard deviation.\n",
        "\n",
        "    Args:\n",
        "        img (np.ndarray): Image array in CxHxW format.\n",
        "\n",
        "    Returns:\n",
        "        np.ndarray: Normalized image array.\n",
        "    \"\"\"\n",
        "    img = img.transpose((2, 0, 1))  # Перестановка осей HxWxC -> CxHxW\n",
        "\n",
        "    # Mean and std values for ImageNet data\n",
        "    mean = np.array([0.485, 0.456, 0.406])\n",
        "    std = np.array([0.229, 0.224, 0.225])\n",
        "\n",
        "    # Приведение типов изображения к float\n",
        "    img = img.astype(np.float32) / 255.0\n",
        "\n",
        "    # Нормализация изображения\n",
        "    img = (img - mean[:, None, None]) / std[:, None, None]\n",
        "\n",
        "    return img\n"
      ],
      "metadata": {
        "id": "rbOf_WWxr2hY"
      },
      "execution_count": 17,
      "outputs": []
    },
    {
      "cell_type": "markdown",
      "metadata": {
        "id": "EBMicBqadu1b"
      },
      "source": [
        "### Part 4: Construct Preprocessing Pipeline\n",
        "Combine the normalization and tensor transformation into a preprocessing pipeline with the `get_preprocessing` function, which should return an `albu.Compose` pipeline to be applied to image data before feeding it into the model."
      ]
    },
    {
      "cell_type": "code",
      "execution_count": 18,
      "metadata": {
        "id": "hqoKpfZeKaN9"
      },
      "outputs": [],
      "source": [
        "def get_preprocessing() -> albu.Compose:\n",
        "    \"\"\"\n",
        "    Constructs preprocessing transform.\n",
        "\n",
        "    Args:\n",
        "        preprocessing_fn (Callable): data normalization function.\n",
        "\n",
        "    Returns:\n",
        "        albu.Compose: preprocessing transform\n",
        "    \"\"\"\n",
        "    # ╰( ͡° ͜ʖ ͡° )つ──☆*:・ﾟ YOUR CODE HERE\n",
        "    return albu.Compose([\n",
        "        albu.Lambda(image=normalize_img),\n",
        "        albu.Lambda(image=to_tensor)\n",
        "    ])"
      ]
    },
    {
      "cell_type": "markdown",
      "metadata": {
        "id": "Bs9A8kgKn28C"
      },
      "source": [
        "## [Task 4] Custom Dataset Class Implementation - 1 Point\n",
        "\n",
        "### Description:\n",
        "Construct a `TimerDataset` class extending PyTorch's `Dataset` class, capable of loading, processing, and augmenting timer images for model training.\n",
        "\n",
        "### Steps:\n",
        "1. Initialize the dataset with paths for images, markup, and splits, specifying data kind (train/validation), and optional augmentation and preprocessing functions.\n",
        "2. Load dataset splits from a JSON file and image-label pairs from a markup file.\n",
        "3. Implement `one_hot_encode` to encode targets as OH vectors.\n",
        "4. Implement `__getitem__` to load and preprocess images, and apply one-hot encoding to labels."
      ]
    },
    {
      "cell_type": "code",
      "execution_count": 19,
      "metadata": {
        "id": "TpSIdGz-n0NC",
        "colab": {
          "base_uri": "https://localhost:8080/"
        },
        "outputId": "ba9b4032-8ffd-4a05-c8b4-a0c6929b2cc6"
      },
      "outputs": [
        {
          "output_type": "stream",
          "name": "stderr",
          "text": [
            "/usr/local/lib/python3.10/dist-packages/torchvision/io/image.py:13: UserWarning: Failed to load image Python extension: '/usr/local/lib/python3.10/dist-packages/torchvision/image.so: undefined symbol: _ZN3c104cuda9SetDeviceEi'If you don't plan on using image functionality from `torchvision.io`, you can ignore this warning. Otherwise, there might be something wrong with your environment. Did you have `libjpeg` or `libpng` installed before building `torchvision` from source?\n",
            "  warn(\n"
          ]
        }
      ],
      "source": [
        "import json\n",
        "import random\n",
        "from pathlib import Path\n",
        "from typing import Callable, Literal\n",
        "\n",
        "import torch\n",
        "from torch.utils.data import Dataset\n",
        "from torchvision import transforms\n",
        "\n",
        "\n",
        "class TimerDataset(Dataset):\n",
        "    \"\"\"\n",
        "    Custom dataset class for loading and processing timer images.\n",
        "\n",
        "    This dataset class is designed to work with a specific format of markup file and\n",
        "    directory structure. It supports optional data augmentation and preprocessing.\n",
        "    Labels are one-hot encoded.\n",
        "\n",
        "    Args:\n",
        "        images_path (Path): Path to the directory containing images.\n",
        "        markup_path (Path): Path to the markup file containing image names and corresponding time labels.\n",
        "        splits_path (Path): Path to the JSON file containing train/validation splits.\n",
        "        kind (str): Type of dataset to load ('train' or 'validation').\n",
        "        augmentations (Callable, optional): A function/callable that applies data augmentation.\n",
        "        preprocessing (Callable, optional): A function/callable that applies preprocessing.\n",
        "\n",
        "    \"\"\"\n",
        "    def __init__(self, images_path, markup_path, splits_path, kind, augmentations=Callable | None, preprocessing=Callable | None):\n",
        "        self.images_path = images_path\n",
        "        self.markup_path = markup_path\n",
        "        self.splits_path = splits_path\n",
        "        self.kind = kind\n",
        "        self.augmentations = augmentations\n",
        "        self.preprocessing = preprocessing\n",
        "\n",
        "        # Загрузка разделений на обучающую и валидационную выборки\n",
        "        with open(splits_path) as f:\n",
        "            self.splits = json.load(f)[kind]\n",
        "\n",
        "        # Загрузка разметки\n",
        "        self.samples = []\n",
        "        with open(markup_path) as f:\n",
        "            for line in f:\n",
        "                parts = line.strip().split(' -> ')\n",
        "                if parts[1] in self.splits:\n",
        "                    self.samples.append((parts[1], self.parse_time(parts[0])))\n",
        "\n",
        "        if not self.samples:\n",
        "            raise RuntimeError(f\"Список samples пуст. Проверьте файлы {splits_path} и {markup_path}.\")\n",
        "\n",
        "    def __len__(self):\n",
        "            return len(self.samples)\n",
        "\n",
        "    def parse_time(self, time_str: str):\n",
        "            hours, minutes = map(int, time_str.split(':'))\n",
        "            return hours, minutes\n",
        "\n",
        "    def one_hot_encode(self, time: tuple[int, int]) -> tuple[torch.Tensor, torch.Tensor]:\n",
        "        \"\"\"\n",
        "        One-hot encodes the given time.\n",
        "\n",
        "        Args:\n",
        "            time (tuple[int, int]): A tuple containing hours and minutes.\n",
        "\n",
        "        Returns:\n",
        "            tuple[torch.Tensor, torch.Tensor]: One-hot encoded hour and minute tensors.\n",
        "        \"\"\"\n",
        "        # ╰( ͡° ͜ʖ ͡° )つ──☆*:・ﾟ YOUR CODE HERE\n",
        "        hours, minutes = time\n",
        "        hour_label = torch.zeros(24)\n",
        "        minute_label = torch.zeros(60)\n",
        "        hour_label[hours] = 1\n",
        "        minute_label[minutes] = 1\n",
        "        return hour_label, minute_label\n",
        "\n",
        "    def __getitem__(self, idx: int) -> tuple[np.ndarray, tuple[int, int]]:\n",
        "        if idx >= len(self.samples):\n",
        "            raise IndexError(f\"Индекс {idx} вне диапазона для датасета с размером {len(self.samples)}.\")\n",
        "\n",
        "        image_name, time = self.samples[idx]\n",
        "        image_path = self.images_path / image_name\n",
        "        image = cv2.imread(str(image_path))\n",
        "        image = cv2.cvtColor(image, cv2.COLOR_BGR2RGB)\n",
        "\n",
        "        if self.augmentations:\n",
        "            augmented = self.augmentations(image=image)\n",
        "            image = augmented['image']\n",
        "\n",
        "        if self.preprocessing:\n",
        "            preprocessed = self.preprocessing(image=image)\n",
        "            image = preprocessed['image']\n",
        "\n",
        "        image = image.transpose(1, 2, 0)\n",
        "        hour_label, minute_label = self.one_hot_encode(time)\n",
        "\n",
        "        return image, (hour_label, minute_label)\n"
      ]
    },
    {
      "cell_type": "code",
      "source": [
        "images_path = Path('timer_dataset/images')\n",
        "markup_path = Path('timer_dataset/targets.txt')\n",
        "splits_path = Path('timer_dataset/splits.json')\n"
      ],
      "metadata": {
        "id": "KA9_sNninuFb"
      },
      "execution_count": 20,
      "outputs": []
    },
    {
      "cell_type": "markdown",
      "metadata": {
        "id": "ojy6T3yFdu1c"
      },
      "source": [
        "### Testing:\n",
        "- Instantiate the `TimerDataset` class.\n",
        "- Retrieve and visualize a sample from the dataset to confirm correct loading and processing."
      ]
    },
    {
      "cell_type": "code",
      "execution_count": 21,
      "metadata": {
        "id": "mW7XPjHKn4Q8"
      },
      "outputs": [],
      "source": [
        "# dataset = # ╰( ͡° ͜ʖ ͡° )つ──☆*:・ﾟ YOUR CODE HERE\n",
        "dataset = TimerDataset(\n",
        "    images_path=images_path,\n",
        "    markup_path=markup_path,\n",
        "    splits_path=splits_path,\n",
        "    kind='train',\n",
        "    augmentations=get_training_augmentations(224),\n",
        "    preprocessing=get_preprocessing()\n",
        ")\n"
      ]
    },
    {
      "cell_type": "code",
      "source": [
        "image, labels = dataset[0]\n",
        "image = image.transpose((1, 2, 0))  # Перестановка осей из (C, H, W) в (H, W, C)\n",
        "visualize(image=image)"
      ],
      "metadata": {
        "colab": {
          "base_uri": "https://localhost:8080/",
          "height": 462
        },
        "id": "sb7fNN7FoArZ",
        "outputId": "75c8c186-cdc8-4fe1-edd3-260c291e81ba"
      },
      "execution_count": 22,
      "outputs": [
        {
          "output_type": "stream",
          "name": "stderr",
          "text": [
            "WARNING:matplotlib.image:Clipping input data to the valid range for imshow with RGB data ([0..1] for floats or [0..255] for integers).\n"
          ]
        },
        {
          "output_type": "display_data",
          "data": {
            "text/plain": [
              "<Figure size 1600x500 with 1 Axes>"
            ],
            "image/png": "[encoded data removed]"
          },
          "metadata": {}
        }
      ]
    },
    {
      "cell_type": "markdown",
      "source": [
        "# Теперь вы можете лицезреть квадрат Малевича, потрясающе. Наверное так и должно было получится\n"
      ],
      "metadata": {
        "id": "8rn3B7ovtVQ6"
      }
    },
    {
      "cell_type": "code",
      "execution_count": null,
      "metadata": {
        "colab": {
          "base_uri": "https://localhost:8080/",
          "height": 428
        },
        "id": "0kpMxgdNn5zl",
        "outputId": "ede0e515-031a-48f3-eb3c-4dc577a05e17"
      },
      "outputs": [
        {
          "data": {
            "image/png": "[encoded data removed]",
            "text/plain": [
              "<Figure size 640x480 with 1 Axes>"
            ]
          },
          "metadata": {},
          "output_type": "display_data"
        }
      ],
      "source": [
        "visualize(image=dataset[0][0])"
      ]
    },
    {
      "cell_type": "markdown",
      "metadata": {
        "id": "4B2jbM1ep2oy"
      },
      "source": [
        "## [Task 5] Two-Headed CNN Model Architecture - 1 Point\n",
        "\n",
        "<img src=\"./images/3.png\" width=\"65%\">\n",
        "\n",
        "### Description:\n",
        "Design a neural network with a shared backbone and two separate heads for predicting hours and minutes.\n",
        "\n",
        "### Steps:\n",
        "1. Use a pre-trained CNN from `torchvision` to retrieve images features.\n",
        "2. Add two new heads, one for hour classification and one for minute classification, each with its own fully connected layers.\n",
        "3. Implement the `forward` method to process input through the backbone and both heads."
      ]
    },
    {
      "cell_type": "code",
      "execution_count": 23,
      "metadata": {
        "id": "yT7p1gbkpzmU"
      },
      "outputs": [],
      "source": [
        "import torch\n",
        "import torch.nn as nn\n",
        "import torchvision.models as models\n",
        "\n",
        "\n",
        "class TwoHeadedCNN(nn.Module):\n",
        "    \"\"\"\n",
        "    A neural network module with two heads,\n",
        "    designed for simultaneous hour and minute classification.\n",
        "\n",
        "    This module takes a backbone CNN model,\n",
        "    removes its last fully connected layer, and adds two separate\n",
        "    heads: one for hour classification and one for minute classification.\n",
        "\n",
        "    Args:\n",
        "        backbone (torch.nn.Module): A pre-trained CNN model to use as the backbone.\n",
        "        num_hour_classes (int, optional): Number of hour classes (default is 24).\n",
        "        num_minute_classes (int, optional): Number of minute classes (default is 60).\n",
        "\n",
        "    \"\"\"\n",
        "    def __init__(\n",
        "        self,\n",
        "        backbone: torch.nn.Module,\n",
        "        num_hour_classes: int = 24,\n",
        "        num_minute_classes: int = 60,\n",
        "    ):\n",
        "        super().__init__()\n",
        "        # Удаление последнего полносвязного слоя из основной модели\n",
        "        self.features = nn.Sequential(*list(backbone.children())[:-1])\n",
        "\n",
        "        # Получение количества признаков перед последним полносвязным слоем\n",
        "        if hasattr(backbone, 'fc'):\n",
        "            num_features = backbone.fc.in_features\n",
        "        elif hasattr(backbone, 'classifier'):\n",
        "            num_features = backbone.classifier[-1].in_features\n",
        "        else:\n",
        "            raise ValueError(\"Неизвестная архитектура модели\")\n",
        "\n",
        "        # Голова для классификации часов\n",
        "        self.hour_head = nn.Sequential(\n",
        "            nn.Flatten(),\n",
        "            nn.Linear(num_features, 512),\n",
        "            nn.ReLU(),\n",
        "            nn.Dropout(0.5),\n",
        "            nn.Linear(512, num_hour_classes)\n",
        "        )\n",
        "\n",
        "        # Голова для классификации минут\n",
        "        self.minute_head = nn.Sequential(\n",
        "            nn.Flatten(),\n",
        "            nn.Linear(num_features, 512),\n",
        "            nn.ReLU(),\n",
        "            nn.Dropout(0.5),\n",
        "            nn.Linear(512, num_minute_classes)\n",
        "        )\n",
        "\n",
        "    def forward(self, x: torch.Tensor) -> tuple[torch.Tensor, torch.Tensor]:\n",
        "        \"\"\"\n",
        "        Defines the forward pass of the model.\n",
        "\n",
        "        Args:\n",
        "            x (torch.Tensor): Input tensor to the network.\n",
        "\n",
        "        Returns:\n",
        "            tuple[torch.Tensor, torch.Tensor]: The outputs from the hours head and minutes head.\n",
        "        \"\"\"\n",
        "        # Forward pass through the backbone model\n",
        "        x = self.features(x)\n",
        "\n",
        "        # Если основная модель включает адаптивный усредняющий слой\n",
        "        # Мы должны убедиться, что данные плоские перед передачей в полносвязный слой\n",
        "        x = torch.flatten(x, 1)\n",
        "\n",
        "        hour_output = self.hour_head(x)\n",
        "        minute_output = self.minute_head(x)\n",
        "\n",
        "        return hour_output, minute_output"
      ]
    },
    {
      "cell_type": "code",
      "source": [
        "backbone_model = models.resnet18(pretrained=True)\n",
        "model = TwoHeadedCNN(backbone=backbone_model)\n",
        "\n",
        "# example\n",
        "x = torch.randn(1, 3, 224, 224)  # random\n",
        "hour_output, minute_output = model(x)\n",
        "print(hour_output.shape, minute_output.shape)  # True response: ([1, 24], [1, 60])\n"
      ],
      "metadata": {
        "colab": {
          "base_uri": "https://localhost:8080/"
        },
        "id": "tK4B-GuivF1V",
        "outputId": "9a79edb9-cfa7-498c-ff57-f16644e6f73a"
      },
      "execution_count": 24,
      "outputs": [
        {
          "output_type": "stream",
          "name": "stderr",
          "text": [
            "/usr/local/lib/python3.10/dist-packages/torchvision/models/_utils.py:208: UserWarning: The parameter 'pretrained' is deprecated since 0.13 and may be removed in the future, please use 'weights' instead.\n",
            "  warnings.warn(\n",
            "/usr/local/lib/python3.10/dist-packages/torchvision/models/_utils.py:223: UserWarning: Arguments other than a weight enum or `None` for 'weights' are deprecated since 0.13 and may be removed in the future. The current behavior is equivalent to passing `weights=ResNet18_Weights.IMAGENET1K_V1`. You can also use `weights=ResNet18_Weights.DEFAULT` to get the most up-to-date weights.\n",
            "  warnings.warn(msg)\n",
            "Downloading: \"https://download.pytorch.org/models/resnet18-f37072fd.pth\" to /root/.cache/torch/hub/checkpoints/resnet18-f37072fd.pth\n",
            "100%|██████████| 44.7M/44.7M [00:00<00:00, 160MB/s]\n"
          ]
        },
        {
          "output_type": "stream",
          "name": "stdout",
          "text": [
            "torch.Size([1, 24]) torch.Size([1, 60])\n"
          ]
        }
      ]
    },
    {
      "cell_type": "markdown",
      "metadata": {
        "id": "_1ThcbCzdu1c"
      },
      "source": [
        "## [Task 6] Composite Loss Function - 0.5 Points\n",
        "\n",
        "### Description:\n",
        "Develop a loss function that computes the composite loss for a two-headed CNN model, accounting for both hour and minute predictions.\n",
        "\n",
        "### Steps:\n",
        "1. Complete the `composite_loss` function that accepts the model outputs and true labels for both hours and minutes.\n",
        "2. Use CrossEntropyLoss to calculate the loss for each head separately.\n",
        "3. Combine the individual losses into a single composite loss value."
      ]
    },
    {
      "cell_type": "code",
      "execution_count": 25,
      "metadata": {
        "id": "5FW16HPedu1c"
      },
      "outputs": [],
      "source": [
        "from torch.nn import CrossEntropyLoss\n",
        "\n",
        "\n",
        "def composite_loss(\n",
        "    model_output: tuple[torch.Tensor, torch.Tensor],\n",
        "    hour_labels: torch.Tensor,\n",
        "    minute_labels: torch.Tensor,\n",
        ") -> torch.Tensor:\n",
        "    \"\"\"\n",
        "    Calculates the composite loss for the two outputs of the model.\n",
        "\n",
        "    This function computes the CrossEntropyLoss for each output (hours and minutes)\n",
        "    and then combines them to create a composite loss.\n",
        "\n",
        "    Args:\n",
        "        model_output (tuple[torch.Tensor, torch.Tensor]): The outputs of the model,\n",
        "                                                          where the first tensor is hour predictions\n",
        "                                                          and the second tensor is minute predictions.\n",
        "        hour_labels (torch.Tensor): The true hour labels.\n",
        "        minute_labels (torch.Tensor): The true minute labels.\n",
        "\n",
        "    Returns:\n",
        "        torch.Tensor: The composite loss value.\n",
        "    \"\"\"\n",
        "    # ╰( ͡° ͜ʖ ͡° )つ──☆*:・ﾟ YOUR CODE HERE\n",
        "    # сreate CrossEntropyLoss\n",
        "    loss_fn = CrossEntropyLoss()\n",
        "\n",
        "    # calculate loss\n",
        "    hour_loss = loss_fn(model_output[0], hour_labels)\n",
        "    minute_loss = loss_fn(model_output[1], minute_labels)\n",
        "\n",
        "    # avg\n",
        "    composite_loss = hour_loss + minute_loss\n",
        "\n",
        "    return composite_loss"
      ]
    },
    {
      "cell_type": "markdown",
      "metadata": {
        "id": "l0S5NqWhp6Z9"
      },
      "source": [
        "## [Task 7] Training Loop - 1.25 Points\n",
        "\n",
        "### Description:\n",
        "Set up the training loop for the model using the provided configuration. This will involve writing `train_epoch` and `valid_epoch` functions, as well as the `main` function to initialize the model and datasets and to orchestrate the training process.\n",
        "\n",
        "### Steps:\n",
        "1. `train_epoch`: Write a function to train the model for one epoch, using the DataLoader to fetch data, the model to make predictions, the loss function to compute the loss, and the optimizer to update the model parameters.\n",
        "2. `valid_epoch`: Write a function to validate the model for one epoch. It should also use the DataLoader to fetch data and the model to make predictions, but it should not perform any parameter updates.\n",
        "3. `main`: Implement the main function to load data, create model instances, and call the training and validation functions in a loop for the desired number of epochs."
      ]
    },
    {
      "cell_type": "code",
      "execution_count": 26,
      "metadata": {
        "id": "XXavMB9ap4ha"
      },
      "outputs": [],
      "source": [
        "from pathlib import Path\n",
        "from typing import Callable, Any\n",
        "\n",
        "import torch\n",
        "from torch.utils.data import DataLoader\n",
        "from torch.optim import Adam\n",
        "from tqdm import tqdm\n",
        "\n",
        "\n",
        "def train_epoch(\n",
        "    model: torch.nn.Module,\n",
        "    dataloader: DataLoader,\n",
        "    loss_fn: Callable,\n",
        "    optimizer: torch.optim.Optimizer,\n",
        "    device: str | torch.device,\n",
        "    epoch: int,\n",
        ") -> float:\n",
        "    \"\"\"\n",
        "    Performs a single training epoch.\n",
        "\n",
        "    Args:\n",
        "        model (torch.nn.Module): The neural network model to train.\n",
        "        dataloader (DataLoader): DataLoader for the training dataset.\n",
        "        loss_fn (Callable): Loss function used for training.\n",
        "        optimizer (torch.optim.Optimizer): Optimizer for updating model weights.\n",
        "        device (str | torch.device): Device to which tensors will be moved ('cpu' or 'cuda').\n",
        "        epoch (int): Current epoch number.\n",
        "\n",
        "    Returns:\n",
        "        float: Average loss for this training epoch.\n",
        "    \"\"\"\n",
        "    model.train()\n",
        "    total_loss = 0\n",
        "    for images, (hour_labels, minute_labels) in tqdm(dataloader, desc=f\"Epoch {epoch + 1} Training\"):\n",
        "        images = images.to(device)\n",
        "        hour_labels = hour_labels.to(device)\n",
        "        minute_labels = minute_labels.to(device)\n",
        "\n",
        "        optimizer.zero_grad()\n",
        "        hour_preds, minute_preds = model(images)\n",
        "        loss = loss_fn((hour_preds, minute_preds), hour_labels, minute_labels)\n",
        "        loss.backward()\n",
        "        optimizer.step()\n",
        "\n",
        "        total_loss += loss.item()\n",
        "\n",
        "    avg_loss = total_loss / len(dataloader)\n",
        "    return avg_loss\n",
        "\n",
        "\n",
        "\n",
        "\n",
        "def valid_epoch(\n",
        "    model: torch.nn.Module,\n",
        "    dataloader: DataLoader,\n",
        "    loss_fn: Callable,\n",
        "    device: str | torch.device,\n",
        "    epoch: int,\n",
        ") -> float:\n",
        "    \"\"\"\n",
        "    Performs a single validation epoch.\n",
        "\n",
        "    Args:\n",
        "        model (torch.nn.Module): The neural network model to validate.\n",
        "        dataloader (DataLoader): DataLoader for the validation dataset.\n",
        "        loss_fn (Callable): Loss function used for validation.\n",
        "        device (str | torch.device): Device to which tensors will be moved ('cpu' or 'cuda').\n",
        "        epoch (int): Current epoch number.\n",
        "\n",
        "    Returns:\n",
        "        float: Average loss for this validation epoch.\n",
        "    \"\"\"\n",
        "    model.eval()\n",
        "    total_loss = 0\n",
        "    with torch.no_grad():\n",
        "        for images, (hour_labels, minute_labels) in tqdm(dataloader, desc=f\"Epoch {epoch + 1} Validation\"):\n",
        "            images = images.to(device)\n",
        "            hour_labels = hour_labels.to(device)\n",
        "            minute_labels = minute_labels.to(device)\n",
        "\n",
        "            hour_preds, minute_preds = model(images)\n",
        "            loss = loss_fn((hour_preds, minute_preds), hour_labels, minute_labels)\n",
        "\n",
        "            total_loss += loss.item()\n",
        "\n",
        "    avg_loss = total_loss / len(dataloader)\n",
        "    return avg_loss\n",
        "\n",
        "\n",
        "def main(config: dict[str, Any]) -> torch.nn.Module:\n",
        "    \"\"\"\n",
        "    Main training loop for the model.\n",
        "\n",
        "    This function sets up datasets, dataloaders, model,\n",
        "    loss function, and optimizer based on the provided configuration.\n",
        "    It then runs the training and validation loops for a specified number of epochs.\n",
        "\n",
        "    Args:\n",
        "        config (dict[str, Any]): Configuration dictionary containing parameters for training.\n",
        "\n",
        "    Returns:\n",
        "        torch.nn.Module: Trained model.\n",
        "    \"\"\"\n",
        "    train_dataset = TimerDataset(\n",
        "        images_path=Path(config['images_path']),\n",
        "        markup_path=Path(config['markup_path']),\n",
        "        splits_path=Path(config['splits_path']),\n",
        "        kind='train',\n",
        "        augmentations=get_training_augmentations(config['image_size']),\n",
        "        preprocessing=get_preprocessing()\n",
        "    )\n",
        "\n",
        "    valid_dataset = TimerDataset(\n",
        "        images_path=Path(config['images_path']),\n",
        "        markup_path=Path(config['markup_path']),\n",
        "        splits_path=Path(config['splits_path']),\n",
        "        kind='val',\n",
        "        augmentations=None,\n",
        "        preprocessing=get_preprocessing()\n",
        "    )\n",
        "\n",
        "    # Создание DataLoader'ов\n",
        "    train_loader = DataLoader(train_dataset, batch_size=config['batch_size'], shuffle=True)\n",
        "    valid_loader = DataLoader(valid_dataset, batch_size=config['batch_size'], shuffle=False)\n",
        "\n",
        "\n",
        "    model = TwoHeadedCNN(models.resnet34(pretrained=True))\n",
        "    model.to(config['device'])\n",
        "\n",
        "    loss_fn = composite_loss\n",
        "\n",
        "    optimizer = Adam(model.parameters(), lr=config['learning_rate'])\n",
        "\n",
        "    for epoch in range(config['num_epochs']):\n",
        "        train_loss = train_epoch(\n",
        "            model, train_loader, loss_fn, optimizer, config['device'], epoch\n",
        "        )\n",
        "        valid_loss = valid_epoch(\n",
        "            model, valid_loader, loss_fn, config['device'], epoch\n",
        "        )\n",
        "\n",
        "        print(f\"Epoch {epoch + 1} Summary: Train Loss: {train_loss:.4f}, Validation Loss: {valid_loss:.4f}\")\n",
        "\n",
        "    return model"
      ]
    },
    {
      "cell_type": "markdown",
      "metadata": {
        "id": "wcmb3rqQdu1d"
      },
      "source": [
        "## [Task 8] Model Training - 1 Point\n",
        "\n",
        "### Description:\n",
        "Execute the model training using the defined configuration and save the trained model's state for future use.\n",
        "\n",
        "### Steps:\n",
        "1. Create a configuration dictionary with all the necessary parameters for the training process, including paths for the dataset, number of epochs, learning rate, and device specification.\n",
        "2. Call the `main` function with this configuration to train the model.\n",
        "3. After training, save the model's state dictionary so that the trained model can be loaded and used for inference later.\n",
        "\n",
        "### Testing:\n",
        "- Run the training process with the specified configuration to ensure it completes without errors.\n",
        "- Confirm that the model's state dictionary is saved correctly by loading it and verifying that it contains the expected parameters."
      ]
    },
    {
      "cell_type": "code",
      "execution_count": 27,
      "metadata": {
        "id": "-uhsgh9ep9Cr",
        "scrolled": true,
        "colab": {
          "base_uri": "https://localhost:8080/"
        },
        "outputId": "2de5465a-a17d-4654-fb7e-970a821ecf62"
      },
      "outputs": [
        {
          "output_type": "stream",
          "name": "stderr",
          "text": [
            "Downloading: \"https://download.pytorch.org/models/resnet152-f82ba261.pth\" to /root/.cache/torch/hub/checkpoints/resnet152-f82ba261.pth\n",
            "100%|██████████| 230M/230M [00:02<00:00, 104MB/s]\n",
            "/usr/local/lib/python3.10/dist-packages/torchvision/models/_utils.py:223: UserWarning: Arguments other than a weight enum or `None` for 'weights' are deprecated since 0.13 and may be removed in the future. The current behavior is equivalent to passing `weights=ResNet34_Weights.IMAGENET1K_V1`. You can also use `weights=ResNet34_Weights.DEFAULT` to get the most up-to-date weights.\n",
            "  warnings.warn(msg)\n",
            "Downloading: \"https://download.pytorch.org/models/resnet34-b627a593.pth\" to /root/.cache/torch/hub/checkpoints/resnet34-b627a593.pth\n",
            "100%|██████████| 83.3M/83.3M [00:00<00:00, 140MB/s]\n",
            "Epoch 1 Training: 100%|██████████| 33/33 [00:14<00:00,  2.33it/s]\n",
            "Epoch 1 Validation: 100%|██████████| 9/9 [00:00<00:00, 22.19it/s]\n"
          ]
        },
        {
          "output_type": "stream",
          "name": "stdout",
          "text": [
            "Epoch 1 Summary: Train Loss: 7.3192, Validation Loss: 7.3194\n"
          ]
        },
        {
          "output_type": "stream",
          "name": "stderr",
          "text": [
            "Epoch 2 Training: 100%|██████████| 33/33 [00:08<00:00,  3.91it/s]\n",
            "Epoch 2 Validation: 100%|██████████| 9/9 [00:00<00:00, 19.92it/s]\n"
          ]
        },
        {
          "output_type": "stream",
          "name": "stdout",
          "text": [
            "Epoch 2 Summary: Train Loss: 7.0363, Validation Loss: 7.3896\n"
          ]
        },
        {
          "output_type": "stream",
          "name": "stderr",
          "text": [
            "Epoch 3 Training: 100%|██████████| 33/33 [00:08<00:00,  4.05it/s]\n",
            "Epoch 3 Validation: 100%|██████████| 9/9 [00:00<00:00, 26.29it/s]\n"
          ]
        },
        {
          "output_type": "stream",
          "name": "stdout",
          "text": [
            "Epoch 3 Summary: Train Loss: 6.6037, Validation Loss: 7.3641\n"
          ]
        },
        {
          "output_type": "stream",
          "name": "stderr",
          "text": [
            "Epoch 4 Training: 100%|██████████| 33/33 [00:08<00:00,  3.88it/s]\n",
            "Epoch 4 Validation: 100%|██████████| 9/9 [00:00<00:00, 24.16it/s]\n"
          ]
        },
        {
          "output_type": "stream",
          "name": "stdout",
          "text": [
            "Epoch 4 Summary: Train Loss: 6.0225, Validation Loss: 7.4046\n"
          ]
        },
        {
          "output_type": "stream",
          "name": "stderr",
          "text": [
            "Epoch 5 Training: 100%|██████████| 33/33 [00:08<00:00,  3.89it/s]\n",
            "Epoch 5 Validation: 100%|██████████| 9/9 [00:00<00:00, 19.89it/s]\n"
          ]
        },
        {
          "output_type": "stream",
          "name": "stdout",
          "text": [
            "Epoch 5 Summary: Train Loss: 5.3819, Validation Loss: 7.3928\n"
          ]
        },
        {
          "output_type": "stream",
          "name": "stderr",
          "text": [
            "Epoch 6 Training: 100%|██████████| 33/33 [00:08<00:00,  4.05it/s]\n",
            "Epoch 6 Validation: 100%|██████████| 9/9 [00:00<00:00, 25.72it/s]\n"
          ]
        },
        {
          "output_type": "stream",
          "name": "stdout",
          "text": [
            "Epoch 6 Summary: Train Loss: 4.7515, Validation Loss: 7.6982\n"
          ]
        },
        {
          "output_type": "stream",
          "name": "stderr",
          "text": [
            "Epoch 7 Training: 100%|██████████| 33/33 [00:08<00:00,  3.88it/s]\n",
            "Epoch 7 Validation: 100%|██████████| 9/9 [00:00<00:00, 25.41it/s]\n"
          ]
        },
        {
          "output_type": "stream",
          "name": "stdout",
          "text": [
            "Epoch 7 Summary: Train Loss: 4.2330, Validation Loss: 7.6383\n"
          ]
        },
        {
          "output_type": "stream",
          "name": "stderr",
          "text": [
            "Epoch 8 Training: 100%|██████████| 33/33 [00:08<00:00,  3.92it/s]\n",
            "Epoch 8 Validation: 100%|██████████| 9/9 [00:00<00:00, 20.57it/s]\n"
          ]
        },
        {
          "output_type": "stream",
          "name": "stdout",
          "text": [
            "Epoch 8 Summary: Train Loss: 3.6528, Validation Loss: 7.9496\n"
          ]
        },
        {
          "output_type": "stream",
          "name": "stderr",
          "text": [
            "Epoch 9 Training: 100%|██████████| 33/33 [00:08<00:00,  3.99it/s]\n",
            "Epoch 9 Validation: 100%|██████████| 9/9 [00:00<00:00, 26.26it/s]\n"
          ]
        },
        {
          "output_type": "stream",
          "name": "stdout",
          "text": [
            "Epoch 9 Summary: Train Loss: 3.0818, Validation Loss: 7.9188\n"
          ]
        },
        {
          "output_type": "stream",
          "name": "stderr",
          "text": [
            "Epoch 10 Training: 100%|██████████| 33/33 [00:08<00:00,  3.81it/s]\n",
            "Epoch 10 Validation: 100%|██████████| 9/9 [00:00<00:00, 25.69it/s]"
          ]
        },
        {
          "output_type": "stream",
          "name": "stdout",
          "text": [
            "Epoch 10 Summary: Train Loss: 2.7215, Validation Loss: 9.2746\n"
          ]
        },
        {
          "output_type": "stream",
          "name": "stderr",
          "text": [
            "\n"
          ]
        }
      ],
      "source": [
        "from torchvision import models\n",
        "\n",
        "# Basic configuration - adjust paths and parameters as needed\n",
        "config = {\n",
        "    \"image_size\": 224,\n",
        "    \"images_path\": \"timer_dataset/images\",\n",
        "    \"markup_path\": \"timer_dataset/targets.txt\",\n",
        "    \"splits_path\": \"timer_dataset/splits.json\",\n",
        "    \"batch_size\": 32,\n",
        "    \"learning_rate\": 1e-4,\n",
        "    \"num_epochs\": 10,\n",
        "    \"device\": \"cuda\" if torch.cuda.is_available() else \"cpu\",\n",
        "    \"backbone\": models.resnet152(weights=models.resnet.ResNet152_Weights.DEFAULT)\n",
        "}\n",
        "\n",
        "model = main(config)"
      ]
    },
    {
      "cell_type": "markdown",
      "source": [
        "### Изначально я запустил свое ведро с lr = lr-10, одной эпохой и маленьким батч сайзом, получилась чепуха, решил теперь по другому"
      ],
      "metadata": {
        "id": "i51Ap-ffWiuD"
      }
    },
    {
      "cell_type": "markdown",
      "source": [
        "### UPD: с батчем 32 и 25 эпохами я переобучился и мой лос оказался на дне, давайте внесем правки"
      ],
      "metadata": {
        "id": "x6PSwD2JZhDB"
      }
    },
    {
      "cell_type": "markdown",
      "metadata": {
        "id": "Lmzmk8peqI8b"
      },
      "source": [
        "### Save model's state dict: (if you wish)"
      ]
    },
    {
      "cell_type": "code",
      "execution_count": 28,
      "metadata": {
        "id": "8PN1319RqBZ9"
      },
      "outputs": [],
      "source": [
        "torch.save(model.state_dict(), 'model.pth')"
      ]
    },
    {
      "cell_type": "markdown",
      "metadata": {
        "id": "48KIk7kgqNRg"
      },
      "source": [
        "## [Task 9] Model Inference - 0.5 Points\n",
        "\n",
        "### Description:\n",
        "Create a function to perform inference on a single image using a pre-trained model, converting the output to a human-readable time format.\n",
        "\n",
        "### Steps:\n",
        "1. Define an `infer_torch` function that accepts an image in numpy array format, the trained model, and the target image size for preprocessing.\n",
        "2. Inside the function, apply the necessary validation augmentations and preprocessing to prepare the image for the model.\n",
        "3. Convert the preprocessed image to a PyTorch tensor and feed it into the model to obtain the predicted hour and minute.\n",
        "4. Convert the model's output to a time string in the format 'HH:MM'."
      ]
    },
    {
      "cell_type": "code",
      "execution_count": 29,
      "metadata": {
        "id": "aT8vcQ5HqOno"
      },
      "outputs": [],
      "source": [
        "def infer_torch(image: np.ndarray, model: torch.nn.Module, image_size=64) -> str:\n",
        "    \"\"\"\n",
        "    Performs inference on a single image using a trained model.\n",
        "\n",
        "    This function applies validation augmentations and preprocessing to the image, converts it to a\n",
        "    PyTorch tensor, and then uses the model to predict the time. The function outputs the predicted\n",
        "    time as a string.\n",
        "\n",
        "    Args:\n",
        "        image (np.ndarray): The image to be processed and fed into the model.\n",
        "        model (torch.nn.Module): The trained model used for inference.\n",
        "        image_size (int, optional): The size to which the image will be resized.\n",
        "\n",
        "    Returns:\n",
        "        str: The predicted time as a string in the format 'HH:MM'.\n",
        "    \"\"\"\n",
        "    model.eval()\n",
        "\n",
        "    # Apply validation augmentations\n",
        "    # ╰( ͡° ͜ʖ ͡° )つ──☆*:・ﾟ YOUR CODE HERE\n",
        "\n",
        "    # Preprocess the image\n",
        "    # ╰( ͡° ͜ʖ ͡° )つ──☆*:・ﾟ YOUR CODE HERE\n",
        "\n",
        "    # Convert the image to a PyTorch tensor, add batch dimension, put on device\n",
        "    # ╰( ͡° ͜ʖ ͡° )つ──☆*:・ﾟ YOUR CODE HERE\n",
        "\n",
        "    # Predict using the model\n",
        "    # ╰( ͡° ͜ʖ ͡° )つ──☆*:・ﾟ YOUR CODE HERE\n",
        "\n",
        "    # Convert to time format\n",
        "    # ╰( ͡° ͜ʖ ͡° )つ──☆*:・ﾟ YOUR CODE HERE"
      ]
    },
    {
      "cell_type": "code",
      "source": [
        "import numpy as np\n",
        "import torch\n",
        "from torchvision import transforms\n",
        "import cv2\n",
        "\n",
        "def infer_torch(image: np.ndarray, model: torch.nn.Module, image_size=64) -> str:\n",
        "    model.eval()\n",
        "\n",
        "    normalize = transforms.Normalize(mean=[0.485, 0.456, 0.406], std=[0.229, 0.224, 0.225])\n",
        "\n",
        "    transform = transforms.Compose([\n",
        "        transforms.ToPILImage(),\n",
        "        transforms.Resize((image_size, image_size)),\n",
        "        transforms.ToTensor(),\n",
        "        normalize,\n",
        "    ])\n",
        "\n",
        "    image = transform(image).to(\"cuda\")\n",
        "    image = image.unsqueeze(0)\n",
        "\n",
        "    with torch.no_grad():\n",
        "        hour_preds, minute_preds = model(image)\n",
        "\n",
        "    hour = hour_preds.argmax(1).item()\n",
        "    minute = minute_preds.argmax(1).item()\n",
        "    predicted_time = f'{hour:02d}:{minute:02d}'\n",
        "\n",
        "    return predicted_time\n"
      ],
      "metadata": {
        "id": "cGZPYGUvVA0D"
      },
      "execution_count": 30,
      "outputs": []
    },
    {
      "cell_type": "markdown",
      "metadata": {
        "id": "7WVRExmkdu1m"
      },
      "source": [
        "### Testing:\n",
        "- Use a sample image and a trained model to test the `infer_torch` function.\n",
        "- Display the original image and the predicted time to verify the function's output."
      ]
    },
    {
      "cell_type": "code",
      "source": [
        "import cv2\n",
        "from PIL import Image\n",
        "import matplotlib.pyplot as plt\n",
        "\n",
        "image_path = 'example2.png'\n",
        "\n",
        "image = cv2.imread(image_path)\n",
        "image = cv2.cvtColor(image, cv2.COLOR_BGR2RGB)  # convert to jpg\n",
        "\n",
        "predicted_time = infer_torch(image, model)\n",
        "\n",
        "def visualize(image):\n",
        "    plt.imshow(image)\n",
        "    plt.axis('off')\n",
        "    plt.show()\n",
        "\n",
        "visualize(image=image)\n",
        "print(\"Predicted Time:\", predicted_time)\n"
      ],
      "metadata": {
        "colab": {
          "base_uri": "https://localhost:8080/",
          "height": 384
        },
        "id": "1wG4AlJVR5bA",
        "outputId": "4227d783-868d-4b07-f8de-8ed25ebf0cd4"
      },
      "execution_count": 34,
      "outputs": [
        {
          "output_type": "display_data",
          "data": {
            "text/plain": [
              "<Figure size 640x480 with 1 Axes>"
            ],
            "image/png": "[encoded data removed]"
          },
          "metadata": {}
        },
        {
          "output_type": "stream",
          "name": "stdout",
          "text": [
            "Predicted Time: 06:54\n"
          ]
        }
      ]
    },
    {
      "cell_type": "markdown",
      "source": [
        "## Вау, после добавления нормализации в infer_torch распозналось. Поигрался с эпохами и батчем и на 7 запуск всё ок"
      ],
      "metadata": {
        "id": "-r_qB0nvTp32"
      }
    },
    {
      "cell_type": "markdown",
      "metadata": {
        "id": "77w8e30PrP_p"
      },
      "source": [
        "## [Task 10] Model Evaluation - 1 Point\n",
        "\n",
        "### Description:\n",
        "Write a function to assess the model's performance on the validation set by calculating accuracy, which is the proportion of correct predictions to total predictions.\n",
        "\n",
        "### Steps:\n",
        "1. Define an `evaluate_model` function that receives the model, paths to splits and targets, and the directory containing images.\n",
        "2. Load the validation set splits and corresponding targets.\n",
        "3. Iterate over the validation set, performing inference and comparing the predicted time to the actual time.\n",
        "4. Tally the correct predictions and calculate the accuracy.\n",
        "\n",
        "**(!!) To achieve full points for this task, the model's accuracy on the validation set must exceed 0.9. Make sure to fine-tune your model and preprocessing steps to meet this benchmark.**"
      ]
    },
    {
      "cell_type": "markdown",
      "metadata": {
        "id": "Kpu1w9BJdu1m"
      },
      "source": [
        "**Two helper functions, special for you:**"
      ]
    },
    {
      "cell_type": "code",
      "execution_count": 35,
      "metadata": {
        "id": "W6JZOxzeqwuu"
      },
      "outputs": [],
      "source": [
        "def load_splits(splits_path: str) -> dict:\n",
        "    \"\"\"\n",
        "    Loads train/validation splits from a JSON file.\n",
        "\n",
        "    This function reads a JSON file specifying which images are in the training set\n",
        "    and which are in the validation set.\n",
        "\n",
        "    Args:\n",
        "        splits_path (str): The path to the JSON file containing the train/validation splits.\n",
        "\n",
        "    Returns:\n",
        "        dict: A dictionary with keys 'train' and 'validation', each mapping to a list of image names.\n",
        "    \"\"\"\n",
        "    with open(splits_path, 'r') as file:\n",
        "        splits = json.load(file)\n",
        "    return splits\n",
        "\n",
        "\n",
        "def load_targets(targets_path: str) -> dict[str, str]:\n",
        "    \"\"\"\n",
        "    Loads target time labels for images from a file.\n",
        "\n",
        "    This function reads a file where each line contains a time label and an image name,\n",
        "    separated by ' -> '. It creates a dictionary mapping from image names to their corresponding\n",
        "    time labels.\n",
        "\n",
        "    Args:\n",
        "        targets_path (str): The path to the file containing the image names\n",
        "        and their corresponding time labels.\n",
        "\n",
        "    Returns:\n",
        "        dict[str, str]: A dictionary where keys are image names\n",
        "        and values are their corresponding time labels.\n",
        "    \"\"\"\n",
        "    targets = {}\n",
        "    with open(targets_path, 'r') as file:\n",
        "        for line in file:\n",
        "            time_str, image_name = line.strip().split(' -> ')\n",
        "            targets[image_name] = time_str\n",
        "    return targets"
      ]
    },
    {
      "cell_type": "code",
      "execution_count": 39,
      "metadata": {
        "id": "Vov61_I0rR1X",
        "colab": {
          "base_uri": "https://localhost:8080/"
        },
        "outputId": "57e769c0-c207-42a7-fb9a-c49bc0b50ccd"
      },
      "outputs": [
        {
          "output_type": "stream",
          "name": "stdout",
          "text": [
            "\n",
            "Accuracy: 0.0\n"
          ]
        }
      ],
      "source": [
        "import json\n",
        "import os\n",
        "\n",
        "\n",
        "def evaluate_model(\n",
        "    model: torch.nn.Module,\n",
        "    splits_path: str,\n",
        "    targets_path: str,\n",
        "    images_dir: str,\n",
        "    image_size: int = 64\n",
        ") -> float:\n",
        "    \"\"\"\n",
        "    Evaluates model's accuracy on a validation set.\n",
        "\n",
        "    This function calculates the accuracy of the provided model by comparing its predictions\n",
        "    with the actual target times for each image in the validation set. It uses a specified\n",
        "    splits file to determine the images in the validation set and a targets file to get the\n",
        "    correct time labels.\n",
        "\n",
        "    Args:\n",
        "        model (torch.nn.Module): The trained model to evaluate.\n",
        "        splits_path (str): Path to the JSON file containing the train/validation splits.\n",
        "        targets_path (str): Path to the file containing the image names and their corresponding time labels.\n",
        "        images_dir (str): Directory containing the images referenced in the targets file.\n",
        "        image_size (int, optional): Size to which the images should be resized.\n",
        "\n",
        "    Returns:\n",
        "        float: The accuracy of the model on the validation set.\n",
        "    \"\"\"\n",
        "    model.eval()\n",
        "    splits = load_splits(splits_path)\n",
        "    targets = load_targets(targets_path)\n",
        "\n",
        "    # Metrics initialization\n",
        "    correct_predictions = 0\n",
        "    total_predictions = len(splits['val'])\n",
        "\n",
        "    # Evaluate on the validation set\n",
        "    for image_name in splits['val']:\n",
        "        image_path = os.path.join(images_dir, image_name)\n",
        "        image = cv2.imread(image_path)\n",
        "        image = cv2.cvtColor(image, cv2.COLOR_BGR2RGB)\n",
        "\n",
        "        predicted_time = infer_torch(image, model, image_size)\n",
        "\n",
        "        actual_time = targets[image_name]\n",
        "        if predicted_time == actual_time:\n",
        "            correct_predictions += 1\n",
        "\n",
        "    # Calculate accuracy\n",
        "    accuracy = correct_predictions / total_predictions\n",
        "    return accuracy\n",
        "\n",
        "splits_path = 'timer_dataset/splits.json'\n",
        "targets_path = 'timer_dataset/targets.txt'\n",
        "images_dir = 'timer_dataset/images/'\n",
        "\n",
        "accuracy = evaluate_model(model, splits_path, targets_path, images_dir)\n",
        "print(\"\\nAccuracy:\", accuracy)"
      ]
    },
    {
      "cell_type": "code",
      "execution_count": 40,
      "metadata": {
        "id": "dYhsNEZbdu1n",
        "colab": {
          "base_uri": "https://localhost:8080/",
          "height": 183
        },
        "outputId": "15b4228a-7efd-4936-b88d-5f5a2bcb5458"
      },
      "outputs": [
        {
          "output_type": "error",
          "ename": "AssertionError",
          "evalue": "ignored",
          "traceback": [
            "\u001b[0;31m---------------------------------------------------------------------------\u001b[0m",
            "\u001b[0;31mAssertionError\u001b[0m                            Traceback (most recent call last)",
            "\u001b[0;32m<ipython-input-40-10f09d7b727a>\u001b[0m in \u001b[0;36m<cell line: 1>\u001b[0;34m()\u001b[0m\n\u001b[0;32m----> 1\u001b[0;31m \u001b[0;32massert\u001b[0m \u001b[0maccuracy\u001b[0m \u001b[0;34m>\u001b[0m \u001b[0;36m0.9\u001b[0m\u001b[0;34m,\u001b[0m \u001b[0;34m\"Try again!\"\u001b[0m\u001b[0;34m\u001b[0m\u001b[0;34m\u001b[0m\u001b[0m\n\u001b[0m",
            "\u001b[0;31mAssertionError\u001b[0m: Try again!"
          ]
        }
      ],
      "source": [
        "assert accuracy > 0.9, \"Try again!\""
      ]
    },
    {
      "cell_type": "markdown",
      "metadata": {
        "id": "jSpK55pfdu1n"
      },
      "source": [
        "## [Task 11] Model Conversion and Speed Benchmarking - 1 Point\n",
        "\n",
        "### Description:\n",
        "Convert the trained model to different runtimes (JIT, ONNX, TensorRT) and benchmark the inference speed. Document the results in a comparative table.\n",
        "\n",
        "### Steps:\n",
        "1. Use the original PyTorch model (referred to as 'Vanilla') and perform inference speed testing.\n",
        "2. Convert the model using JIT compilation and measure the inference speed.\n",
        "3. Use the Torch Compile API to compile the model and benchmark the speed.\n",
        "4. Convert the model to TensorRT and test inference speed.\n",
        "5. Convert the model to ONNX and test inference speed."
      ]
    },
    {
      "cell_type": "markdown",
      "metadata": {
        "id": "mxr3akTsrqGg"
      },
      "source": [
        "**Vanilla**"
      ]
    },
    {
      "cell_type": "code",
      "execution_count": null,
      "metadata": {
        "id": "_c59VXLp2Gfl"
      },
      "outputs": [],
      "source": [
        "# Ensure, that the model in eval() mode, put it on the device\n",
        "model = # ╰( ͡° ͜ʖ ͡° )つ──☆*:・ﾟ YOUR CODE HERE"
      ]
    },
    {
      "cell_type": "code",
      "execution_count": null,
      "metadata": {
        "id": "5I_C8bSBrVoX"
      },
      "outputs": [],
      "source": [
        "%%timeit -n 500\n",
        "image = # ╰( ͡° ͜ʖ ͡° )つ──☆*:・ﾟ YOUR CODE HERE\n",
        "infer_torch(image, model)"
      ]
    },
    {
      "cell_type": "markdown",
      "metadata": {
        "id": "pc_39gQy3QPs"
      },
      "source": [
        "**Jit Tracing**\n",
        "\n",
        "Torch JIT tracing converts PyTorch models into an optimized, platform-independent format, boosting performance and simplifying deployment. It's useful for efficiently running models across different devices."
      ]
    },
    {
      "cell_type": "code",
      "execution_count": null,
      "metadata": {
        "id": "MafeaWsG03n4"
      },
      "outputs": [],
      "source": [
        "# Create a dummy input for the tracing\n",
        "# ╰( ͡° ͜ʖ ͡° )つ──☆*:・ﾟ YOUR CODE HERE\n",
        "\n",
        "# Trace the model\n",
        "# ╰( ͡° ͜ʖ ͡° )つ──☆*:・ﾟ YOUR CODE HERE"
      ]
    },
    {
      "cell_type": "code",
      "execution_count": null,
      "metadata": {
        "id": "42a-qoF73bhS"
      },
      "outputs": [],
      "source": [
        "%%timeit -n 500\n",
        "image = # ╰( ͡° ͜ʖ ͡° )つ──☆*:・ﾟ YOUR CODE HERE\n",
        "infer_torch(image, traced_model)"
      ]
    },
    {
      "cell_type": "markdown",
      "metadata": {
        "id": "bajcqt3_rzon"
      },
      "source": [
        "**Torch Compile**\n",
        "\n",
        "`torch.compile` is a PyTorch feature that enhances performance by JIT-compiling PyTorch code into optimized kernels. This method speeds up code execution significantly with minimal changes to the existing codebase. It's a step beyond previous PyTorch compiler solutions like TorchScript and FX Tracing, offering more streamlined and efficient optimization."
      ]
    },
    {
      "cell_type": "code",
      "execution_count": null,
      "metadata": {
        "id": "sv_obvHwr6SZ"
      },
      "outputs": [],
      "source": [
        "# Compile the model\n",
        "opt_model = # ╰( ͡° ͜ʖ ͡° )つ──☆*:・ﾟ YOUR CODE HERE"
      ]
    },
    {
      "cell_type": "code",
      "execution_count": null,
      "metadata": {
        "id": "z-w4JGdsr_74"
      },
      "outputs": [],
      "source": [
        "%%timeit -n 500\n",
        "image = # ╰( ͡° ͜ʖ ͡° )つ──☆*:・ﾟ YOUR CODE HERE\n",
        "infer_torch(image, opt_model)"
      ]
    },
    {
      "cell_type": "markdown",
      "metadata": {
        "id": "NpxhTy663w0W"
      },
      "source": [
        "**TensorRT**\n",
        "\n",
        "`TensorRT`, developed by NVIDIA, significantly enhances the speed and efficiency of deep learning models on GPUs. It uses advanced optimization techniques such as layer fusion and precision calibration to maximize throughput and reduce latency. Designed for cross-platform compatibility, it supports various frameworks and is particularly effective in production environments where high-performance inference is crucial."
      ]
    },
    {
      "cell_type": "code",
      "execution_count": null,
      "metadata": {
        "id": "U4kgYqV64Deq"
      },
      "outputs": [],
      "source": [
        "import torch_tensorrt\n",
        "\n",
        "# Create a dummy input for the compile\n",
        "dummy_input = # ╰( ͡° ͜ʖ ͡° )つ──☆*:・ﾟ YOUR CODE HERE\n",
        "\n",
        "# Compile the model\n",
        "tensorrt_model = # ╰( ͡° ͜ʖ ͡° )つ──☆*:・ﾟ YOUR CODE HERE"
      ]
    },
    {
      "cell_type": "code",
      "execution_count": null,
      "metadata": {
        "id": "_uc8psUc5WM2"
      },
      "outputs": [],
      "source": [
        "%%timeit -n 500\n",
        "image = # ╰( ͡° ͜ʖ ͡° )つ──☆*:・ﾟ YOUR CODE HERE\n",
        "infer_torch(image, tensorrt_model)"
      ]
    },
    {
      "cell_type": "markdown",
      "metadata": {
        "id": "LqX8i-UN9Owb"
      },
      "source": [
        "**ONNX**\n",
        "\n",
        "`ONNX (Open Neural Network Exchange)` is an open format designed to represent machine learning models. It enables models to be transferred between different frameworks, ensuring interoperability and flexibility. ONNX is widely used for model sharing and deployment across various platforms and tools, making it valuable for developers working in diverse environments or with multiple machine learning frameworks. Its ability to standardize model representation simplifies the process of model exchange and deployment."
      ]
    },
    {
      "cell_type": "code",
      "execution_count": null,
      "metadata": {
        "id": "fJ1-Ykq39InI"
      },
      "outputs": [],
      "source": [
        "import torch\n",
        "import torch.onnx\n",
        "\n",
        "# Create a dummy input for the export\n",
        "dummy_input = # ╰( ͡° ͜ʖ ͡° )つ──☆*:・ﾟ YOUR CODE HERE\n",
        "\n",
        "# Export the model, saving it like \"model.onnx\"\n",
        "# ╰( ͡° ͜ʖ ͡° )つ──☆*:・ﾟ YOUR CODE HERE"
      ]
    },
    {
      "cell_type": "code",
      "execution_count": null,
      "metadata": {
        "id": "DXbdtezB-hFb"
      },
      "outputs": [],
      "source": [
        "import numpy as np\n",
        "import onnxruntime as ort\n",
        "\n",
        "\n",
        "def infer_onnx(\n",
        "    image: np.ndarray,\n",
        "    session: ort.InferenceSession,\n",
        "    image_size: int = 64\n",
        "  ) -> str:\n",
        "    \"\"\"\n",
        "    Performs inference on a single image using an ONNX model session.\n",
        "\n",
        "    This function applies validation augmentations and preprocessing to the image, converts it to the\n",
        "    format expected by the ONNX model, and then uses the session to predict the time. The function\n",
        "    outputs the predicted time as a string.\n",
        "\n",
        "    Args:\n",
        "        image (np.ndarray): The image to be processed and fed into the ONNX model.\n",
        "        session (ort.InferenceSession): The ONNX model inference session.\n",
        "        image_size (int, optional): The size to which the image will be resized.\n",
        "\n",
        "    Returns:\n",
        "        str: The predicted time as a string in the format 'HH:MM'.\n",
        "    \"\"\"\n",
        "    # Get ONNX model input_name\n",
        "    # ╰( ͡° ͜ʖ ͡° )つ──☆*:・ﾟ YOUR CODE HERE\n",
        "\n",
        "    # Apply validation augmentations\n",
        "    # ╰( ͡° ͜ʖ ͡° )つ──☆*:・ﾟ YOUR CODE HERE\n",
        "\n",
        "    # Preprocess the image\n",
        "    # ╰( ͡° ͜ʖ ͡° )つ──☆*:・ﾟ YOUR CODE HERE\n",
        "\n",
        "    # Convert the image to the batch expected by ONNX, cast to float\n",
        "    # ╰( ͡° ͜ʖ ͡° )つ──☆*:・ﾟ YOUR CODE HERE\n",
        "\n",
        "    # Predict using the ONNX session\n",
        "    # ╰( ͡° ͜ʖ ͡° )つ──☆*:・ﾟ YOUR CODE HERE\n",
        "\n",
        "    # Assuming the model returns two outputs: hour and minute\n",
        "    # ╰( ͡° ͜ʖ ͡° )つ──☆*:・ﾟ YOUR CODE HERE\n",
        "\n",
        "    # Convert to time format\n",
        "    # ╰( ͡° ͜ʖ ͡° )つ──☆*:・ﾟ YOUR CODE HERE\n",
        "    return time_str"
      ]
    },
    {
      "cell_type": "code",
      "execution_count": null,
      "metadata": {
        "id": "z0jHJv23GM9D"
      },
      "outputs": [],
      "source": [
        "# We initialize a session first\n",
        "session = ort.InferenceSession(\"model.onnx\")"
      ]
    },
    {
      "cell_type": "code",
      "execution_count": null,
      "metadata": {
        "id": "_H7yiLncCQ_-"
      },
      "outputs": [],
      "source": [
        "%%timeit -n 500\n",
        "image = # ╰( ͡° ͜ʖ ͡° )つ──☆*:・ﾟ YOUR CODE HERE\n",
        "infer_onnx(image, session=session)"
      ]
    },
    {
      "cell_type": "markdown",
      "metadata": {
        "id": "s5o5wGqfdu1o"
      },
      "source": [
        "### Fill the table:\n",
        "\n",
        "| Runtime   | Number of Loops | Mean Inference Time (ms) | Standard Deviation (ms) |\n",
        "|-----------|-----------------|--------------------------|-------------------------|\n",
        "| Vanilla   | 500             | TBD                      | TBD                     |\n",
        "| JIT       | 500             | TBD                      | TBD                     |\n",
        "| Compile   | 500             | TBD                      | TBD                     |\n",
        "| TensorRT  | 500             | TBD                      | TBD                     |\n",
        "| ONNX      | 500             | TBD                      | TBD                     |"
      ]
    },
    {
      "cell_type": "markdown",
      "metadata": {
        "id": "SgQOQBv6du1o"
      },
      "source": [
        "### Your comments on results:"
      ]
    },
    {
      "cell_type": "markdown",
      "metadata": {
        "id": "xSI8Pwgcdu1o"
      },
      "source": [
        "(0_0)"
      ]
    },
    {
      "cell_type": "markdown",
      "metadata": {
        "id": "nBKQvEW8SpLC"
      },
      "source": [
        "## [Task 12] Rust - 3 Points\n",
        "\n",
        "<img src=\"./images/4.jpeg\" width=50%>\n",
        "\n",
        "### About Rust:\n",
        "Rust is a programming language known for its focus on safety and performance. It's designed to be memory safe, preventing common bugs seen in languages like C and C++. Rust achieves this through its unique ownership system, which manages memory and other resources at compile time, eliminating many runtime errors.\n",
        "\n",
        "Its performance is comparable to C++, making it suitable for systems programming and applications where speed is critical. Rust also offers modern features like zero-cost abstractions, guaranteed memory safety, and a friendly compiler with useful error messages, enhancing developer experience.\n",
        "\n",
        "Rust is increasingly popular in areas such as web assembly, embedded systems, and networking, as well as for building command-line tools and desktop applications. Its growing community and rich ecosystem of tools and libraries contribute to its rising adoption.\n",
        "\n",
        "\n",
        "### Suggested Materials:\n",
        "- \"Rust by Example\": A collection of runnable examples that illustrate various Rust concepts and standard libraries.\n",
        "- \"Rustlings\": A fun, instructive way to get accustomed to reading and writing Rust syntax through small exercises.\n",
        "- \"Maturin\": A tool specifically designed for creating Python extensions in Rust with ease. It integrates seamlessly with Cargo and PyPI, simplifying the process of building and distributing Rust-written Python modules. Ideal for enhancing Python with Rust’s performance and safety features, Maturin makes it straightforward to package and share Rust code as Python packages.\n",
        "\n",
        "### Why Infer in Rust:\n",
        "Rust is good for machine learning inference, offering safety and high performance. It avoids latency issues common with garbage collectors and its type system and concurrency model enable efficient, maintainable code. Rust's capabilities allow for serverless inference with lightweight binaries, addressing the slowness of large frameworks like PyTorch in cluster instances. It also reduces Python's performance overhead, a notable advantage given Python's Global Interpreter Lock (GIL) challenges. Rust's growing popularity in the machine learning ecosystem.\n",
        "\n",
        "Finally, Rust is cool!\n",
        "\n",
        "---\n",
        "\n",
        "### Description:\n",
        "The task involves enhancing a machine learning workflow by integrating Rust's performance capabilities with Python's flexibility. The goal is to use Rust for running an ONNX model inference, and then create Python bindings to utilize the Rust implementation. This hybrid approach aims to leverage Rust's performance and safety while maintaining the ease of use provided by Python.\n",
        "\n",
        "The project structure includes:\n",
        "```\n",
        ".\n",
        "├── Cargo.toml\n",
        "├── images\n",
        "├── HW6.ipynb\n",
        "├── model.onnx\n",
        "├── example.png\n",
        "├── src\n",
        "│   ├── lib.rs\n",
        "│   └── main.rs\n",
        "└── timer_dataset\n",
        "```\n",
        "\n",
        "- An example image file `example.png` which could be used for testing the inference process.\n",
        "- A `model.onnx` file which is our converted model to be used for inference.\n",
        "- A `Cargo.toml` file indicating the Rust project's dependencies.\n",
        "- A source directory `src` containing the Rust source code:\n",
        "  - `lib.rs` which is a Rust library file containing shared logic or definitions.\n",
        "  - `main.rs` which is the Rust main file, containing the entry point of the Rust application.\n",
        "\n",
        "**The `.rs` files in the source directory are almost complete but contain errors that need to be fixed. After correcting these errors, you are expected to compile the Rust source into a binary. This binary will be a production-ready executable that performs the ONNX model inference.**\n",
        "\n",
        "**The second part of the task is to build Python bindings using `maturin`. These bindings will allow Python scripts to call the Rust binary and perform inference. The binding should provide an interface where Python code can pass the paths of the model and image files, and then receive the inference results. The results expected are a string representing the predicted outcome and a float64 value indicating the elapsed time of the model call in Rust.**\n",
        "\n",
        "### Steps:\n",
        "1. Debug and correct the Rust code provided in `.rs` files.\n",
        "2. Compile the corrected Rust code into a production-ready binary for ONNX model inference.\n",
        "3. Create Python bindings for the Rust binary to allow inference from Python, ensuring the binding returns the predicted time as a string and the elapsed time as a float64."
      ]
    },
    {
      "cell_type": "markdown",
      "metadata": {
        "id": "WOMdSMvidu1o"
      },
      "source": [
        "### Part 1: Binary - 1 Point\n",
        "\n",
        "Compile a Rust binary that performs ONNX model inference and accurately predicts time from an image.\n",
        "\n",
        "Instructions:\n",
        "1. Compile the Rust binary using the provided command. Ensure all dependencies are correctly installed for a successful build.\n",
        "2. Run the binary with an image to perform inference. The program should output the time taken for inference and the predicted time.\n",
        "\n",
        "Criteria for Full Points:\n",
        " - The Rust binary compiles without errors.\n",
        " - Upon execution, the binary prints out the time taken for the inference process and the correct predicted time."
      ]
    },
    {
      "cell_type": "code",
      "execution_count": 50,
      "metadata": {
        "id": "kqxt8F9UL3Ch",
        "colab": {
          "base_uri": "https://localhost:8080/"
        },
        "outputId": "5103586c-aeda-43b6-f846-6fc6cd214211"
      },
      "outputs": [
        {
          "output_type": "stream",
          "name": "stdout",
          "text": [
            "\u001b[1m\u001b[32m    Updating\u001b[0m crates.io index\n",
            "\u001b[1m\u001b[32m Downloading\u001b[0m crates ...\n",
            "\u001b[1m\u001b[32m  Downloaded\u001b[0m memoffset v0.9.0\n",
            "\u001b[1m\u001b[32m  Downloaded\u001b[0m digest v0.10.7\n",
            "\u001b[1m\u001b[32m  Downloaded\u001b[0m tinyvec v1.6.0\n",
            "\u001b[1m\u001b[32m  Downloaded\u001b[0m thiserror v1.0.51\n",
            "\u001b[1m\u001b[32m  Downloaded\u001b[0m xattr v1.1.3\n",
            "\u001b[1m\u001b[32m  Downloaded\u001b[0m walkdir v2.4.0\n",
            "\u001b[1m\u001b[32m  Downloaded\u001b[0m version_check v0.9.4\n",
            "\u001b[1m\u001b[32m  Downloaded\u001b[0m unindent v0.2.3\n",
            "\u001b[1m\u001b[32m  Downloaded\u001b[0m unicode-segmentation v1.10.1\n",
            "\u001b[1m\u001b[32m  Downloaded\u001b[0m unicode-normalization v0.1.22\n",
            "\u001b[1m\u001b[32m  Downloaded\u001b[0m unicode-ident v1.0.12\n",
            "\u001b[1m\u001b[32m  Downloaded\u001b[0m ucd-trie v0.1.6\n",
            "\u001b[1m\u001b[32m  Downloaded\u001b[0m typenum v1.17.0\n",
            "\u001b[1m\u001b[32m  Downloaded\u001b[0m transpose v0.2.2\n",
            "\u001b[1m\u001b[32m  Downloaded\u001b[0m tract-onnx-opl v0.20.22\n",
            "\u001b[1m\u001b[32m  Downloaded\u001b[0m tract-onnx v0.20.22\n",
            "\u001b[1m\u001b[32m  Downloaded\u001b[0m tract-nnef v0.20.22\n",
            "\u001b[1m\u001b[32m  Downloaded\u001b[0m tract-linalg v0.20.22\n",
            "\u001b[1m\u001b[32m  Downloaded\u001b[0m tract-hir v0.20.22\n",
            "\u001b[1m\u001b[32m  Downloaded\u001b[0m tract-data v0.20.22\n",
            "\u001b[1m\u001b[32m  Downloaded\u001b[0m tract-core v0.20.22\n",
            "\u001b[1m\u001b[32m  Downloaded\u001b[0m time-core v0.1.1\n",
            "\u001b[1m\u001b[32m  Downloaded\u001b[0m libc v0.2.151\n",
            "\u001b[1m\u001b[32m  Downloaded\u001b[0m time-macros v0.2.10\n",
            "\u001b[1m\u001b[32m  Downloaded\u001b[0m tinyvec_macros v0.1.1\n",
            "\u001b[1m\u001b[32m  Downloaded\u001b[0m errno v0.3.8\n",
            "\u001b[1m\u001b[32m  Downloaded\u001b[0m pyo3 v0.20.0\n",
            "\u001b[1m\u001b[32m  Downloaded\u001b[0m dyn-clone v1.0.16\n",
            "\u001b[1m\u001b[32m  Downloaded\u001b[0m pest_derive v2.7.5\n",
            "\u001b[1m\u001b[32m  Downloaded\u001b[0m downcast-rs v1.2.0\n",
            "\u001b[1m\u001b[32m  Downloaded\u001b[0m derive-new v0.5.9\n",
            "\u001b[1m\u001b[32m  Downloaded\u001b[0m cfg-if v1.0.0\n",
            "\u001b[1m\u001b[32m  Downloaded\u001b[0m bytes v1.5.0\n",
            "\u001b[1m\u001b[32m  Downloaded\u001b[0m anymap2 v0.13.0\n",
            "\u001b[1m\u001b[32m  Downloaded\u001b[0m liquid-derive v0.26.4\n",
            "\u001b[1m\u001b[32m  Downloaded\u001b[0m ppv-lite86 v0.2.17\n",
            "\u001b[1m\u001b[32m  Downloaded\u001b[0m pest_meta v2.7.5\n",
            "\u001b[1m\u001b[32m  Downloaded\u001b[0m pest_generator v2.7.5\n",
            "\u001b[1m\u001b[32m  Downloaded\u001b[0m pest v2.7.5\n",
            "\u001b[1m\u001b[32m  Downloaded\u001b[0m percent-encoding v2.3.1\n",
            "\u001b[1m\u001b[32m  Downloaded\u001b[0m paste v1.0.14\n",
            "\u001b[1m\u001b[32m  Downloaded\u001b[0m liquid-core v0.26.4\n",
            "\u001b[1m\u001b[32m  Downloaded\u001b[0m liquid v0.26.4\n",
            "\u001b[1m\u001b[32m  Downloaded\u001b[0m itoa v1.0.10\n",
            "\u001b[1m\u001b[32m  Downloaded\u001b[0m itertools v0.10.5\n",
            "\u001b[1m\u001b[32m  Downloaded\u001b[0m indoc v2.0.4\n",
            "\u001b[1m\u001b[32m  Downloaded\u001b[0m parking_lot v0.12.1\n",
            "\u001b[1m\u001b[32m  Downloaded\u001b[0m num-traits v0.2.17\n",
            "\u001b[1m\u001b[32m  Downloaded\u001b[0m num-integer v0.1.45\n",
            "\u001b[1m\u001b[32m  Downloaded\u001b[0m nom v7.1.3\n",
            "\u001b[1m\u001b[32m  Downloaded\u001b[0m miniz_oxide v0.7.1\n",
            "\u001b[1m\u001b[32m  Downloaded\u001b[0m heck v0.4.1\n",
            "\u001b[1m\u001b[32m  Downloaded\u001b[0m half v2.2.1\n",
            "\u001b[1m\u001b[32m  Downloaded\u001b[0m getrandom v0.2.11\n",
            "\u001b[1m\u001b[32m  Downloaded\u001b[0m generic-array v0.14.7\n",
            "\u001b[1m\u001b[32m  Downloaded\u001b[0m filetime v0.2.23\n",
            "\u001b[1m\u001b[32m  Downloaded\u001b[0m doc-comment v0.3.3\n",
            "\u001b[1m\u001b[32m  Downloaded\u001b[0m crc32fast v1.3.2\n",
            "\u001b[1m\u001b[32m  Downloaded\u001b[0m bit-set v0.5.3\n",
            "\u001b[1m\u001b[32m  Downloaded\u001b[0m autocfg v1.1.0\n",
            "\u001b[1m\u001b[32m  Downloaded\u001b[0m adler v1.0.2\n",
            "\u001b[1m\u001b[32m  Downloaded\u001b[0m lazy_static v1.4.0\n",
            "\u001b[1m\u001b[32m  Downloaded\u001b[0m crypto-common v0.1.6\n",
            "\u001b[1m\u001b[32m  Downloaded\u001b[0m cc v1.0.83\n",
            "\u001b[1m\u001b[32m  Downloaded\u001b[0m bitflags v2.4.1\n",
            "\u001b[1m\u001b[32m  Downloaded\u001b[0m once_cell v1.19.0\n",
            "\u001b[1m\u001b[32m  Downloaded\u001b[0m num-complex v0.4.4\n",
            "\u001b[1m\u001b[32m  Downloaded\u001b[0m ndarray v0.15.6\n",
            "\u001b[1m\u001b[32m  Downloaded\u001b[0m minimal-lexical v0.2.1\n",
            "\u001b[1m\u001b[32m  Downloaded\u001b[0m memmap2 v0.5.10\n",
            "\u001b[1m\u001b[32m  Downloaded\u001b[0m memchr v2.6.4\n",
            "\u001b[1m\u001b[32m  Downloaded\u001b[0m matrixmultiply v0.3.8\n",
            "\u001b[1m\u001b[32m  Downloaded\u001b[0m maplit v1.0.2\n",
            "\u001b[1m\u001b[32m  Downloaded\u001b[0m lock_api v0.4.11\n",
            "\u001b[1m\u001b[32m  Downloaded\u001b[0m linux-raw-sys v0.4.12\n",
            "\u001b[1m\u001b[32m  Downloaded\u001b[0m libm v0.2.8\n",
            "\u001b[1m\u001b[32m  Downloaded\u001b[0m kstring v2.0.0\n",
            "\u001b[1m\u001b[32m  Downloaded\u001b[0m hashbrown v0.11.2\n",
            "\u001b[1m\u001b[32m  Downloaded\u001b[0m anyhow v1.0.76\n",
            "\u001b[1m\u001b[32m  Downloaded\u001b[0m cpufeatures v0.2.11\n",
            "\u001b[1m\u001b[32m  Downloaded\u001b[0m ahash v0.7.7\n",
            "\u001b[1m\u001b[32m  Downloaded\u001b[0m aho-corasick v1.1.2\n",
            "\u001b[1m\u001b[32m  Downloaded\u001b[0m flate2 v1.0.28\n",
            "\u001b[1m\u001b[32m  Downloaded\u001b[0m time v0.3.23\n",
            "\u001b[1m\u001b[32m  Downloaded\u001b[0m thiserror-impl v1.0.51\n",
            "\u001b[1m\u001b[32m  Downloaded\u001b[0m target-lexicon v0.12.12\n",
            "\u001b[1m\u001b[32m  Downloaded\u001b[0m tar v0.4.40\n",
            "\u001b[1m\u001b[32m  Downloaded\u001b[0m syn v2.0.42\n",
            "\u001b[1m\u001b[32m  Downloaded\u001b[0m syn v1.0.109\n",
            "\u001b[1m\u001b[32m  Downloaded\u001b[0m string-interner v0.14.0\n",
            "\u001b[1m\u001b[32m  Downloaded\u001b[0m strength_reduce v0.2.4\n",
            "\u001b[1m\u001b[32m  Downloaded\u001b[0m static_assertions v1.1.0\n",
            "\u001b[1m\u001b[32m  Downloaded\u001b[0m smallvec v1.11.2\n",
            "\u001b[1m\u001b[32m  Downloaded\u001b[0m sha2 v0.10.8\n",
            "\u001b[1m\u001b[32m  Downloaded\u001b[0m serde_derive v1.0.193\n",
            "\u001b[1m\u001b[32m  Downloaded\u001b[0m serde v1.0.193\n",
            "\u001b[1m\u001b[32m  Downloaded\u001b[0m scopeguard v1.2.0\n",
            "\u001b[1m\u001b[32m  Downloaded\u001b[0m scan_fmt v0.2.6\n",
            "\u001b[1m\u001b[32m  Downloaded\u001b[0m same-file v1.0.6\n",
            "\u001b[1m\u001b[32m  Downloaded\u001b[0m rustix v0.38.28\n",
            "\u001b[1m\u001b[32m  Downloaded\u001b[0m rustfft v6.1.0\n",
            "\u001b[1m\u001b[32m  Downloaded\u001b[0m regex-syntax v0.8.2\n",
            "\u001b[1m\u001b[32m  Downloaded\u001b[0m regex-automata v0.4.3\n",
            "\u001b[1m\u001b[32m  Downloaded\u001b[0m regex v1.10.2\n",
            "\u001b[1m\u001b[32m  Downloaded\u001b[0m rawpointer v0.2.1\n",
            "\u001b[1m\u001b[32m  Downloaded\u001b[0m rand_distr v0.4.3\n",
            "\u001b[1m\u001b[32m  Downloaded\u001b[0m rand_core v0.6.4\n",
            "\u001b[1m\u001b[32m  Downloaded\u001b[0m rand_chacha v0.3.1\n",
            "\u001b[1m\u001b[32m  Downloaded\u001b[0m rand v0.8.5\n",
            "\u001b[1m\u001b[32m  Downloaded\u001b[0m quote v1.0.33\n",
            "\u001b[1m\u001b[32m  Downloaded\u001b[0m pyo3-macros-backend v0.20.0\n",
            "\u001b[1m\u001b[32m  Downloaded\u001b[0m pyo3-macros v0.20.0\n",
            "\u001b[1m\u001b[32m  Downloaded\u001b[0m pyo3-ffi v0.20.0\n",
            "\u001b[1m\u001b[32m  Downloaded\u001b[0m pyo3-build-config v0.20.0\n",
            "\u001b[1m\u001b[32m  Downloaded\u001b[0m prost-derive v0.11.9\n",
            "\u001b[1m\u001b[32m  Downloaded\u001b[0m prost v0.11.9\n",
            "\u001b[1m\u001b[32m  Downloaded\u001b[0m proc-macro2 v1.0.71\n",
            "\u001b[1m\u001b[32m  Downloaded\u001b[0m parking_lot_core v0.9.9\n",
            "\u001b[1m\u001b[32m  Downloaded\u001b[0m log v0.4.20\n",
            "\u001b[1m\u001b[32m  Downloaded\u001b[0m liquid-lib v0.26.4\n",
            "\u001b[1m\u001b[32m  Downloaded\u001b[0m bit-vec v0.6.3\n",
            "\u001b[1m\u001b[32m  Downloaded\u001b[0m byteorder v1.5.0\n",
            "\u001b[1m\u001b[32m  Downloaded\u001b[0m block-buffer v0.10.4\n",
            "\u001b[1m\u001b[32m  Downloaded\u001b[0m primal-check v0.3.3\n",
            "\u001b[1m\u001b[32m  Downloaded\u001b[0m either v1.9.0\n",
            "\u001b[1m\u001b[32m   Compiling\u001b[0m autocfg v1.1.0\n",
            "\u001b[1m\u001b[32m   Compiling\u001b[0m proc-macro2 v1.0.71\n",
            "\u001b[1m\u001b[32m   Compiling\u001b[0m unicode-ident v1.0.12\n",
            "\u001b[1m\u001b[32m   Compiling\u001b[0m libm v0.2.8\n",
            "\u001b[1m\u001b[32m   Compiling\u001b[0m libc v0.2.151\n",
            "\u001b[1m\u001b[32m   Compiling\u001b[0m quote v1.0.33\n",
            "\u001b[1m\u001b[32m   Compiling\u001b[0m syn v2.0.42\n",
            "\u001b[1m\u001b[32m   Compiling\u001b[0m cfg-if v1.0.0\n",
            "\u001b[1m\u001b[32m   Compiling\u001b[0m once_cell v1.19.0\n",
            "\u001b[1m\u001b[32m   Compiling\u001b[0m memchr v2.6.4\n",
            "\u001b[1m\u001b[32m   Compiling\u001b[0m num-traits v0.2.17\n",
            "\u001b[1m\u001b[32m   Compiling\u001b[0m thiserror v1.0.51\n",
            "\u001b[1m\u001b[32m   Compiling\u001b[0m ucd-trie v0.1.6\n",
            "\u001b[1m\u001b[32m   Compiling\u001b[0m version_check v0.9.4\n",
            "\u001b[1m\u001b[32m   Compiling\u001b[0m getrandom v0.2.11\n",
            "\u001b[1m\u001b[32m   Compiling\u001b[0m either v1.9.0\n",
            "\u001b[1m\u001b[32m   Compiling\u001b[0m serde v1.0.193\n",
            "\u001b[1m\u001b[32m   Compiling\u001b[0m thiserror-impl v1.0.51\n",
            "\u001b[1m\u001b[32m   Compiling\u001b[0m serde_derive v1.0.193\n",
            "\u001b[1m\u001b[32m   Compiling\u001b[0m pest v2.7.5\n",
            "\u001b[1m\u001b[32m   Compiling\u001b[0m pest_meta v2.7.5\n",
            "\u001b[1m\u001b[32m   Compiling\u001b[0m itertools v0.10.5\n",
            "\u001b[1m\u001b[32m   Compiling\u001b[0m aho-corasick v1.1.2\n",
            "\u001b[1m\u001b[32m   Compiling\u001b[0m num-integer v0.1.45\n",
            "\u001b[1m\u001b[32m   Compiling\u001b[0m time-core v0.1.1\n",
            "\u001b[1m\u001b[32m   Compiling\u001b[0m regex-syntax v0.8.2\n",
            "\u001b[1m\u001b[32m   Compiling\u001b[0m anyhow v1.0.76\n",
            "\u001b[1m\u001b[32m   Compiling\u001b[0m regex-automata v0.4.3\n",
            "\u001b[1m\u001b[32m   Compiling\u001b[0m time-macros v0.2.10\n",
            "\u001b[1m\u001b[32m   Compiling\u001b[0m pest_generator v2.7.5\n",
            "\u001b[1m\u001b[32m   Compiling\u001b[0m itoa v1.0.10\n",
            "\u001b[1m\u001b[32m   Compiling\u001b[0m static_assertions v1.1.0\n",
            "\u001b[1m\u001b[32m   Compiling\u001b[0m time v0.3.23\n",
            "\u001b[1m\u001b[32m   Compiling\u001b[0m kstring v2.0.0\n",
            "\u001b[1m\u001b[32m   Compiling\u001b[0m pest_derive v2.7.5\n",
            "\u001b[1m\u001b[32m   Compiling\u001b[0m regex v1.10.2\n",
            "\u001b[1m\u001b[32m   Compiling\u001b[0m liquid-derive v0.26.4\n",
            "\u001b[1m\u001b[32m   Compiling\u001b[0m ahash v0.7.7\n",
            "\u001b[1m\u001b[32m   Compiling\u001b[0m anymap2 v0.13.0\n",
            "\u001b[1m\u001b[32m   Compiling\u001b[0m doc-comment v0.3.3\n",
            "\u001b[1m\u001b[32m   Compiling\u001b[0m syn v1.0.109\n",
            "\u001b[1m\u001b[32m   Compiling\u001b[0m target-lexicon v0.12.12\n",
            "\u001b[1m\u001b[32m   Compiling\u001b[0m liquid-core v0.26.4\n",
            "\u001b[1m\u001b[32m   Compiling\u001b[0m matrixmultiply v0.3.8\n",
            "\u001b[1m\u001b[32m   Compiling\u001b[0m smallvec v1.11.2\n",
            "\u001b[1m\u001b[32m   Compiling\u001b[0m unicode-segmentation v1.10.1\n",
            "\u001b[1m\u001b[32m   Compiling\u001b[0m tinyvec_macros v0.1.1\n",
            "\u001b[1m\u001b[32m   Compiling\u001b[0m percent-encoding v2.3.1\n",
            "\u001b[1m\u001b[32m   Compiling\u001b[0m liquid-lib v0.26.4\n",
            "\u001b[1m\u001b[32m   Compiling\u001b[0m tinyvec v1.6.0\n",
            "\u001b[1m\u001b[32m   Compiling\u001b[0m num-complex v0.4.4\n",
            "\u001b[1m\u001b[32m   Compiling\u001b[0m rawpointer v0.2.1\n",
            "\u001b[1m\u001b[32m   Compiling\u001b[0m same-file v1.0.6\n",
            "\u001b[1m\u001b[32m   Compiling\u001b[0m walkdir v2.4.0\n",
            "\u001b[1m\u001b[32m   Compiling\u001b[0m pyo3-build-config v0.20.0\n",
            "\u001b[1m\u001b[32m   Compiling\u001b[0m cc v1.0.83\n",
            "\u001b[1m\u001b[32m   Compiling\u001b[0m liquid v0.26.4\n",
            "\u001b[1m\u001b[32m   Compiling\u001b[0m unicode-normalization v0.1.22\n",
            "\u001b[1m\u001b[32m   Compiling\u001b[0m hashbrown v0.11.2\n",
            "\u001b[1m\u001b[32m   Compiling\u001b[0m half v2.2.1\n",
            "\u001b[1m\u001b[32m   Compiling\u001b[0m paste v1.0.14\n",
            "\u001b[1m\u001b[32m   Compiling\u001b[0m minimal-lexical v0.2.1\n",
            "\u001b[1m\u001b[32m   Compiling\u001b[0m nom v7.1.3\n",
            "\u001b[1m\u001b[32m   Compiling\u001b[0m tract-linalg v0.20.22\n",
            "\u001b[1m\u001b[32m   Compiling\u001b[0m string-interner v0.14.0\n",
            "\u001b[1m\u001b[32m   Compiling\u001b[0m scan_fmt v0.2.6\n",
            "\u001b[1m\u001b[32m   Compiling\u001b[0m ndarray v0.15.6\n",
            "\u001b[1m\u001b[32m   Compiling\u001b[0m rustfft v6.1.0\n",
            "\u001b[1m\u001b[32m   Compiling\u001b[0m maplit v1.0.2\n",
            "\u001b[1m\u001b[32m   Compiling\u001b[0m strength_reduce v0.2.4\n",
            "\u001b[1m\u001b[32m   Compiling\u001b[0m rustix v0.38.28\n",
            "\u001b[1m\u001b[32m   Compiling\u001b[0m lazy_static v1.4.0\n",
            "\u001b[1m\u001b[32m   Compiling\u001b[0m transpose v0.2.2\n",
            "\u001b[1m\u001b[32m   Compiling\u001b[0m tract-data v0.20.22\n",
            "\u001b[1m\u001b[32m   Compiling\u001b[0m derive-new v0.5.9\n",
            "\u001b[1m\u001b[32m   Compiling\u001b[0m primal-check v0.3.3\n",
            "\u001b[1m\u001b[32m   Compiling\u001b[0m bit-vec v0.6.3\n",
            "\u001b[1m\u001b[32m   Compiling\u001b[0m log v0.4.20\n",
            "\u001b[1m\u001b[32m   Compiling\u001b[0m dyn-clone v1.0.16\n",
            "\u001b[1m\u001b[32m   Compiling\u001b[0m bitflags v2.4.1\n",
            "\u001b[1m\u001b[32m   Compiling\u001b[0m linux-raw-sys v0.4.12\n",
            "\u001b[1m\u001b[32m   Compiling\u001b[0m downcast-rs v1.2.0\n",
            "\u001b[1m\u001b[32m   Compiling\u001b[0m crc32fast v1.3.2\n",
            "\u001b[1m\u001b[32m   Compiling\u001b[0m bit-set v0.5.3\n",
            "\u001b[1m\u001b[32m   Compiling\u001b[0m rand_core v0.6.4\n",
            "\u001b[1m\u001b[32m   Compiling\u001b[0m ppv-lite86 v0.2.17\n",
            "\u001b[1m\u001b[32m   Compiling\u001b[0m adler v1.0.2\n",
            "\u001b[1m\u001b[32m   Compiling\u001b[0m miniz_oxide v0.7.1\n",
            "\u001b[1m\u001b[32m   Compiling\u001b[0m rand_chacha v0.3.1\n",
            "\u001b[1m\u001b[32m   Compiling\u001b[0m tract-core v0.20.22\n",
            "\u001b[1m\u001b[32m   Compiling\u001b[0m xattr v1.1.3\n",
            "\u001b[1m\u001b[32m   Compiling\u001b[0m pyo3-ffi v0.20.0\n",
            "\u001b[1m\u001b[32m   Compiling\u001b[0m filetime v0.2.23\n",
            "\u001b[1m\u001b[32m   Compiling\u001b[0m lock_api v0.4.11\n",
            "\u001b[1m\u001b[32m   Compiling\u001b[0m parking_lot_core v0.9.9\n",
            "\u001b[1m\u001b[32m   Compiling\u001b[0m tar v0.4.40\n",
            "\u001b[1m\u001b[32m   Compiling\u001b[0m flate2 v1.0.28\n",
            "\u001b[1m\u001b[32m   Compiling\u001b[0m rand v0.8.5\n",
            "\u001b[1m\u001b[32m   Compiling\u001b[0m memoffset v0.9.0\n",
            "\u001b[1m\u001b[32m   Compiling\u001b[0m heck v0.4.1\n",
            "\u001b[1m\u001b[32m   Compiling\u001b[0m scopeguard v1.2.0\n",
            "\u001b[1m\u001b[32m   Compiling\u001b[0m byteorder v1.5.0\n",
            "\u001b[1m\u001b[32m   Compiling\u001b[0m tract-nnef v0.20.22\n",
            "\u001b[1m\u001b[32m   Compiling\u001b[0m pyo3-macros-backend v0.20.0\n",
            "\u001b[1m\u001b[32m   Compiling\u001b[0m rand_distr v0.4.3\n",
            "\u001b[1m\u001b[32m   Compiling\u001b[0m prost-derive v0.11.9\n",
            "\u001b[1m\u001b[32m   Compiling\u001b[0m pyo3 v0.20.0\n",
            "\u001b[1m\u001b[32m   Compiling\u001b[0m bytes v1.5.0\n",
            "\u001b[1m\u001b[32m   Compiling\u001b[0m prost v0.11.9\n",
            "\u001b[1m\u001b[32m   Compiling\u001b[0m parking_lot v0.12.1\n",
            "\u001b[1m\u001b[32m   Compiling\u001b[0m tract-onnx-opl v0.20.22\n",
            "\u001b[1m\u001b[32m   Compiling\u001b[0m pyo3-macros v0.20.0\n",
            "\u001b[1m\u001b[32m   Compiling\u001b[0m tract-hir v0.20.22\n",
            "\u001b[1m\u001b[32m   Compiling\u001b[0m memmap2 v0.5.10\n",
            "\u001b[1m\u001b[32m   Compiling\u001b[0m unindent v0.2.3\n",
            "\u001b[1m\u001b[32m   Compiling\u001b[0m indoc v2.0.4\n",
            "\u001b[1m\u001b[32m   Compiling\u001b[0m tract-onnx v0.20.22\n",
            "\u001b[1m\u001b[32m   Compiling\u001b[0m onnx_inference v0.1.0 (/content)\n",
            "\u001b[0m\u001b[1m\u001b[38;5;9merror\u001b[0m\u001b[0m\u001b[1m: expected `;`, found keyword `let`\u001b[0m\n",
            "\u001b[0m  \u001b[0m\u001b[0m\u001b[1m\u001b[38;5;12m--> \u001b[0m\u001b[0msrc/main.rs:29:31\u001b[0m\n",
            "\u001b[0m   \u001b[0m\u001b[0m\u001b[1m\u001b[38;5;12m|\u001b[0m\n",
            "\u001b[0m\u001b[1m\u001b[38;5;12m29\u001b[0m\u001b[0m \u001b[0m\u001b[0m\u001b[1m\u001b[38;5;12m|\u001b[0m\u001b[0m \u001b[0m\u001b[0m    let start = Instant::now()\u001b[0m\n",
            "\u001b[0m   \u001b[0m\u001b[0m\u001b[1m\u001b[38;5;12m| \u001b[0m\u001b[0m                              \u001b[0m\u001b[0m\u001b[1m\u001b[38;5;9m^\u001b[0m\u001b[0m \u001b[0m\u001b[0m\u001b[1m\u001b[38;5;9mhelp: add `;` here\u001b[0m\n",
            "\u001b[0m\u001b[1m\u001b[38;5;12m30\u001b[0m\u001b[0m \u001b[0m\u001b[0m\u001b[1m\u001b[38;5;12m|\u001b[0m\u001b[0m \u001b[0m\u001b[0m    let result = model.run(tvec!(image.into()))?;\u001b[0m\n",
            "\u001b[0m   \u001b[0m\u001b[0m\u001b[1m\u001b[38;5;12m| \u001b[0m\u001b[0m    \u001b[0m\u001b[0m\u001b[1m\u001b[38;5;12m---\u001b[0m\u001b[0m \u001b[0m\u001b[0m\u001b[1m\u001b[38;5;12munexpected token\u001b[0m\n",
            "\n",
            "\u001b[0m\u001b[1m\u001b[38;5;9merror[E0433]\u001b[0m\u001b[0m\u001b[1m: failed to resolve: use of undeclared crate or module `image`\u001b[0m\n",
            "\u001b[0m  \u001b[0m\u001b[0m\u001b[1m\u001b[38;5;12m--> \u001b[0m\u001b[0msrc/main.rs:21:19\u001b[0m\n",
            "\u001b[0m   \u001b[0m\u001b[0m\u001b[1m\u001b[38;5;12m|\u001b[0m\n",
            "\u001b[0m\u001b[1m\u001b[38;5;12m21\u001b[0m\u001b[0m \u001b[0m\u001b[0m\u001b[1m\u001b[38;5;12m|\u001b[0m\u001b[0m \u001b[0m\u001b[0m    let resized = image::imageops::resize(&img, 224, 224, ::image::imageops::FilterType::Triangle);\u001b[0m\n",
            "\u001b[0m   \u001b[0m\u001b[0m\u001b[1m\u001b[38;5;12m| \u001b[0m\u001b[0m                  \u001b[0m\u001b[0m\u001b[1m\u001b[38;5;9m^^^^^\u001b[0m\u001b[0m \u001b[0m\u001b[0m\u001b[1m\u001b[38;5;9muse of undeclared crate or module `image`\u001b[0m\n",
            "\n",
            "\u001b[0m\u001b[1m\u001b[38;5;9merror[E0433]\u001b[0m\u001b[0m\u001b[1m: failed to resolve: could not find `image` in the list of imported crates\u001b[0m\n",
            "\u001b[0m  \u001b[0m\u001b[0m\u001b[1m\u001b[38;5;12m--> \u001b[0m\u001b[0msrc/main.rs:21:61\u001b[0m\n",
            "\u001b[0m   \u001b[0m\u001b[0m\u001b[1m\u001b[38;5;12m|\u001b[0m\n",
            "\u001b[0m\u001b[1m\u001b[38;5;12m21\u001b[0m\u001b[0m \u001b[0m\u001b[0m\u001b[1m\u001b[38;5;12m|\u001b[0m\u001b[0m \u001b[0m\u001b[0m    let resized = image::imageops::resize(&img, 224, 224, ::image::imageops::FilterType::Triangle);\u001b[0m\n",
            "\u001b[0m   \u001b[0m\u001b[0m\u001b[1m\u001b[38;5;12m| \u001b[0m\u001b[0m                                                            \u001b[0m\u001b[0m\u001b[1m\u001b[38;5;9m^^^^^\u001b[0m\u001b[0m \u001b[0m\u001b[0m\u001b[1m\u001b[38;5;9mcould not find `image` in the list of imported crates\u001b[0m\n",
            "\n",
            "\u001b[0m\u001b[1m\u001b[38;5;9merror[E0433]\u001b[0m\u001b[0m\u001b[1m: failed to resolve: use of undeclared crate or module `image`\u001b[0m\n",
            "\u001b[0m  \u001b[0m\u001b[0m\u001b[1m\u001b[38;5;12m--> \u001b[0m\u001b[0msrc/main.rs:20:15\u001b[0m\n",
            "\u001b[0m   \u001b[0m\u001b[0m\u001b[1m\u001b[38;5;12m|\u001b[0m\n",
            "\u001b[0m\u001b[1m\u001b[38;5;12m20\u001b[0m\u001b[0m \u001b[0m\u001b[0m\u001b[1m\u001b[38;5;12m|\u001b[0m\u001b[0m \u001b[0m\u001b[0m    let img = image::open(\"example.png\").unwrap().to_rgb8();\u001b[0m\n",
            "\u001b[0m   \u001b[0m\u001b[0m\u001b[1m\u001b[38;5;12m| \u001b[0m\u001b[0m              \u001b[0m\u001b[0m\u001b[1m\u001b[38;5;9m^^^^^\u001b[0m\u001b[0m \u001b[0m\u001b[0m\u001b[1m\u001b[38;5;9muse of undeclared crate or module `image`\u001b[0m\n",
            "\n",
            "\u001b[0m\u001b[1mFor more information about this error, try `rustc --explain E0433`.\u001b[0m\n",
            "\u001b[1m\u001b[31merror\u001b[0m\u001b[1m:\u001b[0m could not compile `onnx_inference` (bin \"binary\") due to 4 previous errors\n"
          ]
        }
      ],
      "source": [
        "!cargo build --bin binary -r"
      ]
    },
    {
      "cell_type": "code",
      "execution_count": 51,
      "metadata": {
        "id": "3qGSDEwSYB08",
        "colab": {
          "base_uri": "https://localhost:8080/"
        },
        "outputId": "e4c815ff-4d89-40b4-c7d1-4032ee6d3c1d"
      },
      "outputs": [
        {
          "output_type": "stream",
          "name": "stdout",
          "text": [
            "/bin/bash: line 1: ./target/release/binary: No such file or directory\n"
          ]
        }
      ],
      "source": [
        "!./target/release/binary"
      ]
    },
    {
      "cell_type": "markdown",
      "metadata": {
        "id": "FEobhMEvdu1o"
      },
      "source": [
        "### Part 2: Python Binding - 2 Points\n",
        "\n",
        "Build a Python binding for the Rust-based ONNX inference engine and validate its functionality through a Python interface.\n",
        "\n",
        "Instructions:\n",
        "1. Use maturin to build the Python binding from the Rust implementation.\n",
        "2. Install the generated wheel using pip to make the binding available to Python.\n",
        "3. In Python, import the provided binding function and pass the paths of the ONNX model and an image file to it.\n",
        "4. Check that the function returns the correct prediction and the model's call time measured in Rust.\n",
        "\n",
        "Criteria for Full Points:\n",
        " - The Python binding compiles and installs without errors.\n",
        " - The Python code successfully calls the Rust inference engine and returns the correct prediction and elapsed time."
      ]
    },
    {
      "cell_type": "markdown",
      "metadata": {
        "id": "FmCJvcGgdu1o"
      },
      "source": [
        "**Binding build and library install:**"
      ]
    },
    {
      "cell_type": "code",
      "execution_count": null,
      "metadata": {
        "id": "bPOCxt4vbsbx"
      },
      "outputs": [],
      "source": [
        "!maturin build -r"
      ]
    },
    {
      "cell_type": "code",
      "execution_count": null,
      "metadata": {
        "id": "d3tMxYuobzRX"
      },
      "outputs": [],
      "source": [
        "!pip install # ╰( ͡° ͜ʖ ͡° )つ──☆*:・ﾟ"
      ]
    },
    {
      "cell_type": "markdown",
      "metadata": {
        "id": "PMQiPWWsdu1p"
      },
      "source": [
        "**Binding test:**"
      ]
    },
    {
      "cell_type": "code",
      "execution_count": null,
      "metadata": {
        "id": "hicxOvOkfZ-9"
      },
      "outputs": [],
      "source": [
        "from onnx_inference import run_model"
      ]
    },
    {
      "cell_type": "code",
      "execution_count": null,
      "metadata": {
        "id": "mCQxriGefeRd"
      },
      "outputs": [],
      "source": [
        "predict, elapsed_time = run_model(\"model.onnx\", \"example.png\")"
      ]
    },
    {
      "cell_type": "code",
      "execution_count": null,
      "metadata": {
        "id": "kau4g_Atdu1p"
      },
      "outputs": [],
      "source": [
        "print(\"Time:\", predict, \"\\nElapsed time:\", elapsed_time)"
      ]
    },
    {
      "cell_type": "code",
      "execution_count": null,
      "metadata": {
        "id": "iM9JLQD0du1p"
      },
      "outputs": [],
      "source": [
        "assert predict == \"15:53\""
      ]
    },
    {
      "cell_type": "code",
      "execution_count": null,
      "metadata": {
        "id": "FwuHVZEmdu1p"
      },
      "outputs": [],
      "source": []
    }
  ],
  "metadata": {
    "accelerator": "GPU",
    "colab": {
      "provenance": []
    },
    "kernelspec": {
      "display_name": "Python 3 (ipykernel)",
      "language": "python",
      "name": "python3"
    },
    "language_info": {
      "codemirror_mode": {
        "name": "ipython",
        "version": 3
      },
      "file_extension": ".py",
      "mimetype": "text/x-python",
      "name": "python",
      "nbconvert_exporter": "python",
      "pygments_lexer": "ipython3",
      "version": "3.10.9"
    }
  },
  "nbformat": 4,
  "nbformat_minor": 0
}